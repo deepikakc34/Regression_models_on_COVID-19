{
 "cells": [
  {
   "cell_type": "code",
   "execution_count": 1,
   "metadata": {},
   "outputs": [],
   "source": [
    "import pandas as pd\n",
    "import scipy.stats\n",
    "temp_df = pd.read_excel('temperature_provisional_clean.xlsx')"
   ]
  },
  {
   "cell_type": "code",
   "execution_count": 2,
   "metadata": {},
   "outputs": [
    {
     "name": "stdout",
     "output_type": "stream",
     "text": [
      "<class 'pandas.core.frame.DataFrame'>\n",
      "RangeIndex: 16677 entries, 0 to 16676\n",
      "Data columns (total 12 columns):\n",
      "country          16677 non-null object\n",
      "lat              16677 non-null float64\n",
      "long             16677 non-null float64\n",
      "date             16677 non-null object\n",
      "cases            16677 non-null int64\n",
      "fatalities       16677 non-null int64\n",
      "capital          16677 non-null object\n",
      "humidity         16500 non-null float64\n",
      "sunHour          16500 non-null float64\n",
      "tempC            16500 non-null float64\n",
      "windspeedKmph    16500 non-null float64\n",
      "death_rate       16677 non-null float64\n",
      "dtypes: float64(7), int64(2), object(3)\n",
      "memory usage: 1.5+ MB\n"
     ]
    }
   ],
   "source": [
    "temp_df.info()"
   ]
  },
  {
   "cell_type": "code",
   "execution_count": 3,
   "metadata": {},
   "outputs": [
    {
     "data": {
      "text/html": [
       "<div>\n",
       "<style scoped>\n",
       "    .dataframe tbody tr th:only-of-type {\n",
       "        vertical-align: middle;\n",
       "    }\n",
       "\n",
       "    .dataframe tbody tr th {\n",
       "        vertical-align: top;\n",
       "    }\n",
       "\n",
       "    .dataframe thead th {\n",
       "        text-align: right;\n",
       "    }\n",
       "</style>\n",
       "<table border=\"1\" class=\"dataframe\">\n",
       "  <thead>\n",
       "    <tr style=\"text-align: right;\">\n",
       "      <th></th>\n",
       "      <th>country</th>\n",
       "      <th>lat</th>\n",
       "      <th>long</th>\n",
       "      <th>date</th>\n",
       "      <th>cases</th>\n",
       "      <th>fatalities</th>\n",
       "      <th>capital</th>\n",
       "      <th>humidity</th>\n",
       "      <th>sunHour</th>\n",
       "      <th>tempC</th>\n",
       "      <th>windspeedKmph</th>\n",
       "      <th>death_rate</th>\n",
       "    </tr>\n",
       "  </thead>\n",
       "  <tbody>\n",
       "    <tr>\n",
       "      <td>0</td>\n",
       "      <td>afghanistan</td>\n",
       "      <td>33.0</td>\n",
       "      <td>65.0</td>\n",
       "      <td>1/22/2020</td>\n",
       "      <td>0</td>\n",
       "      <td>0</td>\n",
       "      <td>Kabul</td>\n",
       "      <td>65.0</td>\n",
       "      <td>8.7</td>\n",
       "      <td>-1.0</td>\n",
       "      <td>8.0</td>\n",
       "      <td>0.0</td>\n",
       "    </tr>\n",
       "    <tr>\n",
       "      <td>1</td>\n",
       "      <td>afghanistan</td>\n",
       "      <td>33.0</td>\n",
       "      <td>65.0</td>\n",
       "      <td>1/23/2020</td>\n",
       "      <td>0</td>\n",
       "      <td>0</td>\n",
       "      <td>Kabul</td>\n",
       "      <td>59.0</td>\n",
       "      <td>8.7</td>\n",
       "      <td>-3.0</td>\n",
       "      <td>8.0</td>\n",
       "      <td>0.0</td>\n",
       "    </tr>\n",
       "    <tr>\n",
       "      <td>2</td>\n",
       "      <td>afghanistan</td>\n",
       "      <td>33.0</td>\n",
       "      <td>65.0</td>\n",
       "      <td>1/24/2020</td>\n",
       "      <td>0</td>\n",
       "      <td>0</td>\n",
       "      <td>Kabul</td>\n",
       "      <td>71.0</td>\n",
       "      <td>7.1</td>\n",
       "      <td>0.0</td>\n",
       "      <td>7.0</td>\n",
       "      <td>0.0</td>\n",
       "    </tr>\n",
       "    <tr>\n",
       "      <td>3</td>\n",
       "      <td>afghanistan</td>\n",
       "      <td>33.0</td>\n",
       "      <td>65.0</td>\n",
       "      <td>1/25/2020</td>\n",
       "      <td>0</td>\n",
       "      <td>0</td>\n",
       "      <td>Kabul</td>\n",
       "      <td>79.0</td>\n",
       "      <td>8.7</td>\n",
       "      <td>0.0</td>\n",
       "      <td>7.0</td>\n",
       "      <td>0.0</td>\n",
       "    </tr>\n",
       "    <tr>\n",
       "      <td>4</td>\n",
       "      <td>afghanistan</td>\n",
       "      <td>33.0</td>\n",
       "      <td>65.0</td>\n",
       "      <td>1/26/2020</td>\n",
       "      <td>0</td>\n",
       "      <td>0</td>\n",
       "      <td>Kabul</td>\n",
       "      <td>64.0</td>\n",
       "      <td>8.7</td>\n",
       "      <td>-1.0</td>\n",
       "      <td>8.0</td>\n",
       "      <td>0.0</td>\n",
       "    </tr>\n",
       "  </tbody>\n",
       "</table>\n",
       "</div>"
      ],
      "text/plain": [
       "       country   lat  long       date  cases  fatalities capital  humidity  \\\n",
       "0  afghanistan  33.0  65.0  1/22/2020      0           0   Kabul      65.0   \n",
       "1  afghanistan  33.0  65.0  1/23/2020      0           0   Kabul      59.0   \n",
       "2  afghanistan  33.0  65.0  1/24/2020      0           0   Kabul      71.0   \n",
       "3  afghanistan  33.0  65.0  1/25/2020      0           0   Kabul      79.0   \n",
       "4  afghanistan  33.0  65.0  1/26/2020      0           0   Kabul      64.0   \n",
       "\n",
       "   sunHour  tempC  windspeedKmph  death_rate  \n",
       "0      8.7   -1.0            8.0         0.0  \n",
       "1      8.7   -3.0            8.0         0.0  \n",
       "2      7.1    0.0            7.0         0.0  \n",
       "3      8.7    0.0            7.0         0.0  \n",
       "4      8.7   -1.0            8.0         0.0  "
      ]
     },
     "execution_count": 3,
     "metadata": {},
     "output_type": "execute_result"
    }
   ],
   "source": [
    "temp_df.head()"
   ]
  },
  {
   "cell_type": "markdown",
   "metadata": {},
   "source": [
    "to identify an approxiate correlation between temperature and death rate, we have identified those time period who has minimum of 1 death in each of the countries"
   ]
  },
  {
   "cell_type": "code",
   "execution_count": 4,
   "metadata": {},
   "outputs": [
    {
     "data": {
      "text/html": [
       "<div>\n",
       "<style scoped>\n",
       "    .dataframe tbody tr th:only-of-type {\n",
       "        vertical-align: middle;\n",
       "    }\n",
       "\n",
       "    .dataframe tbody tr th {\n",
       "        vertical-align: top;\n",
       "    }\n",
       "\n",
       "    .dataframe thead th {\n",
       "        text-align: right;\n",
       "    }\n",
       "</style>\n",
       "<table border=\"1\" class=\"dataframe\">\n",
       "  <thead>\n",
       "    <tr style=\"text-align: right;\">\n",
       "      <th></th>\n",
       "      <th>country</th>\n",
       "      <th>lat</th>\n",
       "      <th>long</th>\n",
       "      <th>date</th>\n",
       "      <th>cases</th>\n",
       "      <th>fatalities</th>\n",
       "      <th>capital</th>\n",
       "      <th>humidity</th>\n",
       "      <th>sunHour</th>\n",
       "      <th>tempC</th>\n",
       "      <th>windspeedKmph</th>\n",
       "      <th>death_rate</th>\n",
       "    </tr>\n",
       "  </thead>\n",
       "  <tbody>\n",
       "    <tr>\n",
       "      <td>839</td>\n",
       "      <td>australia</td>\n",
       "      <td>-31.9505</td>\n",
       "      <td>115.8605</td>\n",
       "      <td>3/1/2020</td>\n",
       "      <td>2</td>\n",
       "      <td>1</td>\n",
       "      <td>Canberra</td>\n",
       "      <td>53.0</td>\n",
       "      <td>11.6</td>\n",
       "      <td>29.0</td>\n",
       "      <td>9.0</td>\n",
       "      <td>50.000000</td>\n",
       "    </tr>\n",
       "    <tr>\n",
       "      <td>848</td>\n",
       "      <td>australia</td>\n",
       "      <td>-31.9505</td>\n",
       "      <td>115.8605</td>\n",
       "      <td>3/2/2020</td>\n",
       "      <td>2</td>\n",
       "      <td>1</td>\n",
       "      <td>Canberra</td>\n",
       "      <td>42.0</td>\n",
       "      <td>11.6</td>\n",
       "      <td>30.0</td>\n",
       "      <td>11.0</td>\n",
       "      <td>50.000000</td>\n",
       "    </tr>\n",
       "    <tr>\n",
       "      <td>857</td>\n",
       "      <td>australia</td>\n",
       "      <td>-31.9505</td>\n",
       "      <td>115.8605</td>\n",
       "      <td>3/3/2020</td>\n",
       "      <td>2</td>\n",
       "      <td>1</td>\n",
       "      <td>Canberra</td>\n",
       "      <td>72.0</td>\n",
       "      <td>10.3</td>\n",
       "      <td>22.0</td>\n",
       "      <td>11.0</td>\n",
       "      <td>50.000000</td>\n",
       "    </tr>\n",
       "    <tr>\n",
       "      <td>860</td>\n",
       "      <td>australia</td>\n",
       "      <td>-33.8688</td>\n",
       "      <td>151.2093</td>\n",
       "      <td>3/4/2020</td>\n",
       "      <td>22</td>\n",
       "      <td>1</td>\n",
       "      <td>Canberra</td>\n",
       "      <td>94.0</td>\n",
       "      <td>6.4</td>\n",
       "      <td>16.0</td>\n",
       "      <td>9.0</td>\n",
       "      <td>4.545455</td>\n",
       "    </tr>\n",
       "    <tr>\n",
       "      <td>866</td>\n",
       "      <td>australia</td>\n",
       "      <td>-31.9505</td>\n",
       "      <td>115.8605</td>\n",
       "      <td>3/4/2020</td>\n",
       "      <td>2</td>\n",
       "      <td>1</td>\n",
       "      <td>Canberra</td>\n",
       "      <td>94.0</td>\n",
       "      <td>6.4</td>\n",
       "      <td>16.0</td>\n",
       "      <td>9.0</td>\n",
       "      <td>50.000000</td>\n",
       "    </tr>\n",
       "    <tr>\n",
       "      <td>869</td>\n",
       "      <td>australia</td>\n",
       "      <td>-33.8688</td>\n",
       "      <td>151.2093</td>\n",
       "      <td>3/5/2020</td>\n",
       "      <td>22</td>\n",
       "      <td>1</td>\n",
       "      <td>Canberra</td>\n",
       "      <td>96.0</td>\n",
       "      <td>6.4</td>\n",
       "      <td>17.0</td>\n",
       "      <td>9.0</td>\n",
       "      <td>4.545455</td>\n",
       "    </tr>\n",
       "    <tr>\n",
       "      <td>875</td>\n",
       "      <td>australia</td>\n",
       "      <td>-31.9505</td>\n",
       "      <td>115.8605</td>\n",
       "      <td>3/5/2020</td>\n",
       "      <td>3</td>\n",
       "      <td>1</td>\n",
       "      <td>Canberra</td>\n",
       "      <td>96.0</td>\n",
       "      <td>6.4</td>\n",
       "      <td>17.0</td>\n",
       "      <td>9.0</td>\n",
       "      <td>33.333333</td>\n",
       "    </tr>\n",
       "    <tr>\n",
       "      <td>878</td>\n",
       "      <td>australia</td>\n",
       "      <td>-33.8688</td>\n",
       "      <td>151.2093</td>\n",
       "      <td>3/6/2020</td>\n",
       "      <td>26</td>\n",
       "      <td>1</td>\n",
       "      <td>Canberra</td>\n",
       "      <td>83.0</td>\n",
       "      <td>6.4</td>\n",
       "      <td>24.0</td>\n",
       "      <td>7.0</td>\n",
       "      <td>3.846154</td>\n",
       "    </tr>\n",
       "    <tr>\n",
       "      <td>884</td>\n",
       "      <td>australia</td>\n",
       "      <td>-31.9505</td>\n",
       "      <td>115.8605</td>\n",
       "      <td>3/6/2020</td>\n",
       "      <td>3</td>\n",
       "      <td>1</td>\n",
       "      <td>Canberra</td>\n",
       "      <td>83.0</td>\n",
       "      <td>6.4</td>\n",
       "      <td>24.0</td>\n",
       "      <td>7.0</td>\n",
       "      <td>33.333333</td>\n",
       "    </tr>\n",
       "    <tr>\n",
       "      <td>887</td>\n",
       "      <td>australia</td>\n",
       "      <td>-33.8688</td>\n",
       "      <td>151.2093</td>\n",
       "      <td>3/7/2020</td>\n",
       "      <td>28</td>\n",
       "      <td>1</td>\n",
       "      <td>Canberra</td>\n",
       "      <td>76.0</td>\n",
       "      <td>7.7</td>\n",
       "      <td>21.0</td>\n",
       "      <td>9.0</td>\n",
       "      <td>3.571429</td>\n",
       "    </tr>\n",
       "    <tr>\n",
       "      <td>893</td>\n",
       "      <td>australia</td>\n",
       "      <td>-31.9505</td>\n",
       "      <td>115.8605</td>\n",
       "      <td>3/7/2020</td>\n",
       "      <td>3</td>\n",
       "      <td>1</td>\n",
       "      <td>Canberra</td>\n",
       "      <td>76.0</td>\n",
       "      <td>7.7</td>\n",
       "      <td>21.0</td>\n",
       "      <td>9.0</td>\n",
       "      <td>33.333333</td>\n",
       "    </tr>\n",
       "    <tr>\n",
       "      <td>896</td>\n",
       "      <td>australia</td>\n",
       "      <td>-33.8688</td>\n",
       "      <td>151.2093</td>\n",
       "      <td>3/8/2020</td>\n",
       "      <td>38</td>\n",
       "      <td>2</td>\n",
       "      <td>Canberra</td>\n",
       "      <td>77.0</td>\n",
       "      <td>9.0</td>\n",
       "      <td>17.0</td>\n",
       "      <td>11.0</td>\n",
       "      <td>5.263158</td>\n",
       "    </tr>\n",
       "    <tr>\n",
       "      <td>902</td>\n",
       "      <td>australia</td>\n",
       "      <td>-31.9505</td>\n",
       "      <td>115.8605</td>\n",
       "      <td>3/8/2020</td>\n",
       "      <td>3</td>\n",
       "      <td>1</td>\n",
       "      <td>Canberra</td>\n",
       "      <td>77.0</td>\n",
       "      <td>9.0</td>\n",
       "      <td>17.0</td>\n",
       "      <td>11.0</td>\n",
       "      <td>33.333333</td>\n",
       "    </tr>\n",
       "    <tr>\n",
       "      <td>905</td>\n",
       "      <td>australia</td>\n",
       "      <td>-33.8688</td>\n",
       "      <td>151.2093</td>\n",
       "      <td>3/9/2020</td>\n",
       "      <td>48</td>\n",
       "      <td>2</td>\n",
       "      <td>Canberra</td>\n",
       "      <td>79.0</td>\n",
       "      <td>6.4</td>\n",
       "      <td>19.0</td>\n",
       "      <td>9.0</td>\n",
       "      <td>4.166667</td>\n",
       "    </tr>\n",
       "    <tr>\n",
       "      <td>911</td>\n",
       "      <td>australia</td>\n",
       "      <td>-31.9505</td>\n",
       "      <td>115.8605</td>\n",
       "      <td>3/9/2020</td>\n",
       "      <td>4</td>\n",
       "      <td>1</td>\n",
       "      <td>Canberra</td>\n",
       "      <td>79.0</td>\n",
       "      <td>6.4</td>\n",
       "      <td>19.0</td>\n",
       "      <td>9.0</td>\n",
       "      <td>25.000000</td>\n",
       "    </tr>\n",
       "    <tr>\n",
       "      <td>914</td>\n",
       "      <td>australia</td>\n",
       "      <td>-33.8688</td>\n",
       "      <td>151.2093</td>\n",
       "      <td>3/10/2020</td>\n",
       "      <td>55</td>\n",
       "      <td>2</td>\n",
       "      <td>Canberra</td>\n",
       "      <td>74.0</td>\n",
       "      <td>10.3</td>\n",
       "      <td>23.0</td>\n",
       "      <td>5.0</td>\n",
       "      <td>3.636364</td>\n",
       "    </tr>\n",
       "    <tr>\n",
       "      <td>920</td>\n",
       "      <td>australia</td>\n",
       "      <td>-31.9505</td>\n",
       "      <td>115.8605</td>\n",
       "      <td>3/10/2020</td>\n",
       "      <td>6</td>\n",
       "      <td>1</td>\n",
       "      <td>Canberra</td>\n",
       "      <td>74.0</td>\n",
       "      <td>10.3</td>\n",
       "      <td>23.0</td>\n",
       "      <td>5.0</td>\n",
       "      <td>16.666667</td>\n",
       "    </tr>\n",
       "    <tr>\n",
       "      <td>923</td>\n",
       "      <td>australia</td>\n",
       "      <td>-33.8688</td>\n",
       "      <td>151.2093</td>\n",
       "      <td>3/11/2020</td>\n",
       "      <td>65</td>\n",
       "      <td>2</td>\n",
       "      <td>Canberra</td>\n",
       "      <td>72.0</td>\n",
       "      <td>11.6</td>\n",
       "      <td>24.0</td>\n",
       "      <td>6.0</td>\n",
       "      <td>3.076923</td>\n",
       "    </tr>\n",
       "    <tr>\n",
       "      <td>929</td>\n",
       "      <td>australia</td>\n",
       "      <td>-31.9505</td>\n",
       "      <td>115.8605</td>\n",
       "      <td>3/11/2020</td>\n",
       "      <td>9</td>\n",
       "      <td>1</td>\n",
       "      <td>Canberra</td>\n",
       "      <td>72.0</td>\n",
       "      <td>11.6</td>\n",
       "      <td>24.0</td>\n",
       "      <td>6.0</td>\n",
       "      <td>11.111111</td>\n",
       "    </tr>\n",
       "    <tr>\n",
       "      <td>932</td>\n",
       "      <td>australia</td>\n",
       "      <td>-33.8688</td>\n",
       "      <td>151.2093</td>\n",
       "      <td>3/12/2020</td>\n",
       "      <td>65</td>\n",
       "      <td>2</td>\n",
       "      <td>Canberra</td>\n",
       "      <td>72.0</td>\n",
       "      <td>11.6</td>\n",
       "      <td>23.0</td>\n",
       "      <td>6.0</td>\n",
       "      <td>3.076923</td>\n",
       "    </tr>\n",
       "    <tr>\n",
       "      <td>938</td>\n",
       "      <td>australia</td>\n",
       "      <td>-31.9505</td>\n",
       "      <td>115.8605</td>\n",
       "      <td>3/12/2020</td>\n",
       "      <td>9</td>\n",
       "      <td>1</td>\n",
       "      <td>Canberra</td>\n",
       "      <td>72.0</td>\n",
       "      <td>11.6</td>\n",
       "      <td>23.0</td>\n",
       "      <td>6.0</td>\n",
       "      <td>11.111111</td>\n",
       "    </tr>\n",
       "    <tr>\n",
       "      <td>941</td>\n",
       "      <td>australia</td>\n",
       "      <td>-33.8688</td>\n",
       "      <td>151.2093</td>\n",
       "      <td>3/13/2020</td>\n",
       "      <td>92</td>\n",
       "      <td>2</td>\n",
       "      <td>Canberra</td>\n",
       "      <td>69.0</td>\n",
       "      <td>11.6</td>\n",
       "      <td>23.0</td>\n",
       "      <td>8.0</td>\n",
       "      <td>2.173913</td>\n",
       "    </tr>\n",
       "    <tr>\n",
       "      <td>947</td>\n",
       "      <td>australia</td>\n",
       "      <td>-31.9505</td>\n",
       "      <td>115.8605</td>\n",
       "      <td>3/13/2020</td>\n",
       "      <td>14</td>\n",
       "      <td>1</td>\n",
       "      <td>Canberra</td>\n",
       "      <td>69.0</td>\n",
       "      <td>11.6</td>\n",
       "      <td>23.0</td>\n",
       "      <td>8.0</td>\n",
       "      <td>7.142857</td>\n",
       "    </tr>\n",
       "    <tr>\n",
       "      <td>950</td>\n",
       "      <td>australia</td>\n",
       "      <td>-33.8688</td>\n",
       "      <td>151.2093</td>\n",
       "      <td>3/14/2020</td>\n",
       "      <td>112</td>\n",
       "      <td>2</td>\n",
       "      <td>Canberra</td>\n",
       "      <td>76.0</td>\n",
       "      <td>10.2</td>\n",
       "      <td>15.0</td>\n",
       "      <td>14.0</td>\n",
       "      <td>1.785714</td>\n",
       "    </tr>\n",
       "    <tr>\n",
       "      <td>956</td>\n",
       "      <td>australia</td>\n",
       "      <td>-31.9505</td>\n",
       "      <td>115.8605</td>\n",
       "      <td>3/14/2020</td>\n",
       "      <td>17</td>\n",
       "      <td>1</td>\n",
       "      <td>Canberra</td>\n",
       "      <td>76.0</td>\n",
       "      <td>10.2</td>\n",
       "      <td>15.0</td>\n",
       "      <td>14.0</td>\n",
       "      <td>5.882353</td>\n",
       "    </tr>\n",
       "    <tr>\n",
       "      <td>959</td>\n",
       "      <td>australia</td>\n",
       "      <td>-33.8688</td>\n",
       "      <td>151.2093</td>\n",
       "      <td>3/15/2020</td>\n",
       "      <td>134</td>\n",
       "      <td>2</td>\n",
       "      <td>Canberra</td>\n",
       "      <td>68.0</td>\n",
       "      <td>11.6</td>\n",
       "      <td>19.0</td>\n",
       "      <td>10.0</td>\n",
       "      <td>1.492537</td>\n",
       "    </tr>\n",
       "    <tr>\n",
       "      <td>965</td>\n",
       "      <td>australia</td>\n",
       "      <td>-31.9505</td>\n",
       "      <td>115.8605</td>\n",
       "      <td>3/15/2020</td>\n",
       "      <td>17</td>\n",
       "      <td>1</td>\n",
       "      <td>Canberra</td>\n",
       "      <td>68.0</td>\n",
       "      <td>11.6</td>\n",
       "      <td>19.0</td>\n",
       "      <td>10.0</td>\n",
       "      <td>5.882353</td>\n",
       "    </tr>\n",
       "    <tr>\n",
       "      <td>968</td>\n",
       "      <td>australia</td>\n",
       "      <td>-33.8688</td>\n",
       "      <td>151.2093</td>\n",
       "      <td>3/16/2020</td>\n",
       "      <td>171</td>\n",
       "      <td>2</td>\n",
       "      <td>Canberra</td>\n",
       "      <td>73.0</td>\n",
       "      <td>11.6</td>\n",
       "      <td>20.0</td>\n",
       "      <td>12.0</td>\n",
       "      <td>1.169591</td>\n",
       "    </tr>\n",
       "    <tr>\n",
       "      <td>974</td>\n",
       "      <td>australia</td>\n",
       "      <td>-31.9505</td>\n",
       "      <td>115.8605</td>\n",
       "      <td>3/16/2020</td>\n",
       "      <td>28</td>\n",
       "      <td>1</td>\n",
       "      <td>Canberra</td>\n",
       "      <td>73.0</td>\n",
       "      <td>11.6</td>\n",
       "      <td>20.0</td>\n",
       "      <td>12.0</td>\n",
       "      <td>3.571429</td>\n",
       "    </tr>\n",
       "    <tr>\n",
       "      <td>977</td>\n",
       "      <td>australia</td>\n",
       "      <td>-33.8688</td>\n",
       "      <td>151.2093</td>\n",
       "      <td>3/17/2020</td>\n",
       "      <td>210</td>\n",
       "      <td>4</td>\n",
       "      <td>Canberra</td>\n",
       "      <td>66.0</td>\n",
       "      <td>11.6</td>\n",
       "      <td>24.0</td>\n",
       "      <td>4.0</td>\n",
       "      <td>1.904762</td>\n",
       "    </tr>\n",
       "    <tr>\n",
       "      <td>983</td>\n",
       "      <td>australia</td>\n",
       "      <td>-31.9505</td>\n",
       "      <td>115.8605</td>\n",
       "      <td>3/17/2020</td>\n",
       "      <td>31</td>\n",
       "      <td>1</td>\n",
       "      <td>Canberra</td>\n",
       "      <td>66.0</td>\n",
       "      <td>11.6</td>\n",
       "      <td>24.0</td>\n",
       "      <td>4.0</td>\n",
       "      <td>3.225806</td>\n",
       "    </tr>\n",
       "    <tr>\n",
       "      <td>986</td>\n",
       "      <td>australia</td>\n",
       "      <td>-33.8688</td>\n",
       "      <td>151.2093</td>\n",
       "      <td>3/18/2020</td>\n",
       "      <td>267</td>\n",
       "      <td>5</td>\n",
       "      <td>Canberra</td>\n",
       "      <td>62.0</td>\n",
       "      <td>11.6</td>\n",
       "      <td>24.0</td>\n",
       "      <td>7.0</td>\n",
       "      <td>1.872659</td>\n",
       "    </tr>\n",
       "    <tr>\n",
       "      <td>992</td>\n",
       "      <td>australia</td>\n",
       "      <td>-31.9505</td>\n",
       "      <td>115.8605</td>\n",
       "      <td>3/18/2020</td>\n",
       "      <td>35</td>\n",
       "      <td>1</td>\n",
       "      <td>Canberra</td>\n",
       "      <td>62.0</td>\n",
       "      <td>11.6</td>\n",
       "      <td>24.0</td>\n",
       "      <td>7.0</td>\n",
       "      <td>2.857143</td>\n",
       "    </tr>\n",
       "    <tr>\n",
       "      <td>995</td>\n",
       "      <td>australia</td>\n",
       "      <td>-33.8688</td>\n",
       "      <td>151.2093</td>\n",
       "      <td>3/19/2020</td>\n",
       "      <td>307</td>\n",
       "      <td>5</td>\n",
       "      <td>Canberra</td>\n",
       "      <td>55.0</td>\n",
       "      <td>11.6</td>\n",
       "      <td>27.0</td>\n",
       "      <td>6.0</td>\n",
       "      <td>1.628664</td>\n",
       "    </tr>\n",
       "    <tr>\n",
       "      <td>1001</td>\n",
       "      <td>australia</td>\n",
       "      <td>-31.9505</td>\n",
       "      <td>115.8605</td>\n",
       "      <td>3/19/2020</td>\n",
       "      <td>52</td>\n",
       "      <td>1</td>\n",
       "      <td>Canberra</td>\n",
       "      <td>55.0</td>\n",
       "      <td>11.6</td>\n",
       "      <td>27.0</td>\n",
       "      <td>6.0</td>\n",
       "      <td>1.923077</td>\n",
       "    </tr>\n",
       "    <tr>\n",
       "      <td>1004</td>\n",
       "      <td>australia</td>\n",
       "      <td>-33.8688</td>\n",
       "      <td>151.2093</td>\n",
       "      <td>3/20/2020</td>\n",
       "      <td>353</td>\n",
       "      <td>6</td>\n",
       "      <td>Canberra</td>\n",
       "      <td>49.0</td>\n",
       "      <td>11.6</td>\n",
       "      <td>27.0</td>\n",
       "      <td>18.0</td>\n",
       "      <td>1.699717</td>\n",
       "    </tr>\n",
       "    <tr>\n",
       "      <td>1010</td>\n",
       "      <td>australia</td>\n",
       "      <td>-31.9505</td>\n",
       "      <td>115.8605</td>\n",
       "      <td>3/20/2020</td>\n",
       "      <td>64</td>\n",
       "      <td>1</td>\n",
       "      <td>Canberra</td>\n",
       "      <td>49.0</td>\n",
       "      <td>11.6</td>\n",
       "      <td>27.0</td>\n",
       "      <td>18.0</td>\n",
       "      <td>1.562500</td>\n",
       "    </tr>\n",
       "    <tr>\n",
       "      <td>1013</td>\n",
       "      <td>australia</td>\n",
       "      <td>-33.8688</td>\n",
       "      <td>151.2093</td>\n",
       "      <td>3/21/2020</td>\n",
       "      <td>436</td>\n",
       "      <td>6</td>\n",
       "      <td>Canberra</td>\n",
       "      <td>71.0</td>\n",
       "      <td>11.6</td>\n",
       "      <td>22.0</td>\n",
       "      <td>6.0</td>\n",
       "      <td>1.376147</td>\n",
       "    </tr>\n",
       "    <tr>\n",
       "      <td>1019</td>\n",
       "      <td>australia</td>\n",
       "      <td>-31.9505</td>\n",
       "      <td>115.8605</td>\n",
       "      <td>3/21/2020</td>\n",
       "      <td>90</td>\n",
       "      <td>1</td>\n",
       "      <td>Canberra</td>\n",
       "      <td>71.0</td>\n",
       "      <td>11.6</td>\n",
       "      <td>22.0</td>\n",
       "      <td>6.0</td>\n",
       "      <td>1.111111</td>\n",
       "    </tr>\n",
       "  </tbody>\n",
       "</table>\n",
       "</div>"
      ],
      "text/plain": [
       "        country      lat      long       date  cases  fatalities   capital  \\\n",
       "839   australia -31.9505  115.8605   3/1/2020      2           1  Canberra   \n",
       "848   australia -31.9505  115.8605   3/2/2020      2           1  Canberra   \n",
       "857   australia -31.9505  115.8605   3/3/2020      2           1  Canberra   \n",
       "860   australia -33.8688  151.2093   3/4/2020     22           1  Canberra   \n",
       "866   australia -31.9505  115.8605   3/4/2020      2           1  Canberra   \n",
       "869   australia -33.8688  151.2093   3/5/2020     22           1  Canberra   \n",
       "875   australia -31.9505  115.8605   3/5/2020      3           1  Canberra   \n",
       "878   australia -33.8688  151.2093   3/6/2020     26           1  Canberra   \n",
       "884   australia -31.9505  115.8605   3/6/2020      3           1  Canberra   \n",
       "887   australia -33.8688  151.2093   3/7/2020     28           1  Canberra   \n",
       "893   australia -31.9505  115.8605   3/7/2020      3           1  Canberra   \n",
       "896   australia -33.8688  151.2093   3/8/2020     38           2  Canberra   \n",
       "902   australia -31.9505  115.8605   3/8/2020      3           1  Canberra   \n",
       "905   australia -33.8688  151.2093   3/9/2020     48           2  Canberra   \n",
       "911   australia -31.9505  115.8605   3/9/2020      4           1  Canberra   \n",
       "914   australia -33.8688  151.2093  3/10/2020     55           2  Canberra   \n",
       "920   australia -31.9505  115.8605  3/10/2020      6           1  Canberra   \n",
       "923   australia -33.8688  151.2093  3/11/2020     65           2  Canberra   \n",
       "929   australia -31.9505  115.8605  3/11/2020      9           1  Canberra   \n",
       "932   australia -33.8688  151.2093  3/12/2020     65           2  Canberra   \n",
       "938   australia -31.9505  115.8605  3/12/2020      9           1  Canberra   \n",
       "941   australia -33.8688  151.2093  3/13/2020     92           2  Canberra   \n",
       "947   australia -31.9505  115.8605  3/13/2020     14           1  Canberra   \n",
       "950   australia -33.8688  151.2093  3/14/2020    112           2  Canberra   \n",
       "956   australia -31.9505  115.8605  3/14/2020     17           1  Canberra   \n",
       "959   australia -33.8688  151.2093  3/15/2020    134           2  Canberra   \n",
       "965   australia -31.9505  115.8605  3/15/2020     17           1  Canberra   \n",
       "968   australia -33.8688  151.2093  3/16/2020    171           2  Canberra   \n",
       "974   australia -31.9505  115.8605  3/16/2020     28           1  Canberra   \n",
       "977   australia -33.8688  151.2093  3/17/2020    210           4  Canberra   \n",
       "983   australia -31.9505  115.8605  3/17/2020     31           1  Canberra   \n",
       "986   australia -33.8688  151.2093  3/18/2020    267           5  Canberra   \n",
       "992   australia -31.9505  115.8605  3/18/2020     35           1  Canberra   \n",
       "995   australia -33.8688  151.2093  3/19/2020    307           5  Canberra   \n",
       "1001  australia -31.9505  115.8605  3/19/2020     52           1  Canberra   \n",
       "1004  australia -33.8688  151.2093  3/20/2020    353           6  Canberra   \n",
       "1010  australia -31.9505  115.8605  3/20/2020     64           1  Canberra   \n",
       "1013  australia -33.8688  151.2093  3/21/2020    436           6  Canberra   \n",
       "1019  australia -31.9505  115.8605  3/21/2020     90           1  Canberra   \n",
       "\n",
       "      humidity  sunHour  tempC  windspeedKmph  death_rate  \n",
       "839       53.0     11.6   29.0            9.0   50.000000  \n",
       "848       42.0     11.6   30.0           11.0   50.000000  \n",
       "857       72.0     10.3   22.0           11.0   50.000000  \n",
       "860       94.0      6.4   16.0            9.0    4.545455  \n",
       "866       94.0      6.4   16.0            9.0   50.000000  \n",
       "869       96.0      6.4   17.0            9.0    4.545455  \n",
       "875       96.0      6.4   17.0            9.0   33.333333  \n",
       "878       83.0      6.4   24.0            7.0    3.846154  \n",
       "884       83.0      6.4   24.0            7.0   33.333333  \n",
       "887       76.0      7.7   21.0            9.0    3.571429  \n",
       "893       76.0      7.7   21.0            9.0   33.333333  \n",
       "896       77.0      9.0   17.0           11.0    5.263158  \n",
       "902       77.0      9.0   17.0           11.0   33.333333  \n",
       "905       79.0      6.4   19.0            9.0    4.166667  \n",
       "911       79.0      6.4   19.0            9.0   25.000000  \n",
       "914       74.0     10.3   23.0            5.0    3.636364  \n",
       "920       74.0     10.3   23.0            5.0   16.666667  \n",
       "923       72.0     11.6   24.0            6.0    3.076923  \n",
       "929       72.0     11.6   24.0            6.0   11.111111  \n",
       "932       72.0     11.6   23.0            6.0    3.076923  \n",
       "938       72.0     11.6   23.0            6.0   11.111111  \n",
       "941       69.0     11.6   23.0            8.0    2.173913  \n",
       "947       69.0     11.6   23.0            8.0    7.142857  \n",
       "950       76.0     10.2   15.0           14.0    1.785714  \n",
       "956       76.0     10.2   15.0           14.0    5.882353  \n",
       "959       68.0     11.6   19.0           10.0    1.492537  \n",
       "965       68.0     11.6   19.0           10.0    5.882353  \n",
       "968       73.0     11.6   20.0           12.0    1.169591  \n",
       "974       73.0     11.6   20.0           12.0    3.571429  \n",
       "977       66.0     11.6   24.0            4.0    1.904762  \n",
       "983       66.0     11.6   24.0            4.0    3.225806  \n",
       "986       62.0     11.6   24.0            7.0    1.872659  \n",
       "992       62.0     11.6   24.0            7.0    2.857143  \n",
       "995       55.0     11.6   27.0            6.0    1.628664  \n",
       "1001      55.0     11.6   27.0            6.0    1.923077  \n",
       "1004      49.0     11.6   27.0           18.0    1.699717  \n",
       "1010      49.0     11.6   27.0           18.0    1.562500  \n",
       "1013      71.0     11.6   22.0            6.0    1.376147  \n",
       "1019      71.0     11.6   22.0            6.0    1.111111  "
      ]
     },
     "execution_count": 4,
     "metadata": {},
     "output_type": "execute_result"
    }
   ],
   "source": [
    "country_df = temp_df[temp_df['country']=='australia'] \n",
    "indv_model = country_df[country_df['death_rate'] != 0]\n",
    "indv_model"
   ]
  },
  {
   "cell_type": "markdown",
   "metadata": {},
   "source": [
    "CORRELATION OF DEATH RATE WITH TEMP IN AUSTRALIA"
   ]
  },
  {
   "cell_type": "code",
   "execution_count": 5,
   "metadata": {},
   "outputs": [],
   "source": [
    "indv_temp = indv_model['tempC']\n",
    "indv_mort = indv_model['death_rate']"
   ]
  },
  {
   "cell_type": "code",
   "execution_count": 6,
   "metadata": {},
   "outputs": [
    {
     "data": {
      "text/plain": [
       "0.04937512138916132"
      ]
     },
     "execution_count": 6,
     "metadata": {},
     "output_type": "execute_result"
    }
   ],
   "source": [
    "scipy.stats.pearsonr(indv_temp, indv_mort)[0]"
   ]
  },
  {
   "cell_type": "code",
   "execution_count": 31,
   "metadata": {},
   "outputs": [
    {
     "data": {
      "image/png": "[encoded data removed]",
      "text/plain": [
       "<Figure size 432x288 with 1 Axes>"
      ]
     },
     "metadata": {
      "needs_background": "light"
     },
     "output_type": "display_data"
    }
   ],
   "source": [
    "import matplotlib.pyplot as plt\n",
    "import numpy as np\n",
    "\n",
    "\n",
    "plt.plot(indv_temp, indv_mort, 'o')\n",
    "\n",
    "m, b = np.polyfit(indv_temp, indv_mort, 1)\n",
    "\n",
    "plt.plot(indv_temp, m*indv_temp + b)\n",
    "plt.show()"
   ]
  },
  {
   "cell_type": "markdown",
   "metadata": {},
   "source": [
    "CORRELATION OF DEATH RATE WITH TEMP IN AUSTRALIA"
   ]
  },
  {
   "cell_type": "code",
   "execution_count": 8,
   "metadata": {},
   "outputs": [
    {
     "data": {
      "text/plain": [
       "-0.04254528037052839"
      ]
     },
     "execution_count": 8,
     "metadata": {},
     "output_type": "execute_result"
    }
   ],
   "source": [
    "country_df = temp_df[temp_df['country']=='china'] \n",
    "indv_model = country_df[country_df['death_rate'] != 0]\n",
    "indv_temp = indv_model['tempC']\n",
    "indv_mort = indv_model['death_rate']\n",
    "scipy.stats.pearsonr(indv_temp, indv_mort)[0]"
   ]
  },
  {
   "cell_type": "code",
   "execution_count": 9,
   "metadata": {},
   "outputs": [
    {
     "data": {
      "image/png": "[encoded data removed]",
      "text/plain": [
       "<Figure size 432x288 with 1 Axes>"
      ]
     },
     "metadata": {
      "needs_background": "light"
     },
     "output_type": "display_data"
    }
   ],
   "source": [
    "import matplotlib.pyplot as plt\n",
    "import numpy as np\n",
    "\n",
    "\n",
    "plt.plot(indv_temp, indv_mort, 'ro')\n",
    "\n",
    "m, b = np.polyfit(indv_temp, indv_mort, 1)\n",
    "\n",
    "plt.plot(indv_temp, m*indv_temp + b)\n",
    "plt.show()"
   ]
  },
  {
   "cell_type": "markdown",
   "metadata": {},
   "source": [
    "CORRELATION OF DEATH RATE WITH TEMP IN FRANCE"
   ]
  },
  {
   "cell_type": "code",
   "execution_count": 10,
   "metadata": {},
   "outputs": [
    {
     "data": {
      "text/plain": [
       "-0.08838967201019811"
      ]
     },
     "execution_count": 10,
     "metadata": {},
     "output_type": "execute_result"
    }
   ],
   "source": [
    "country_df = temp_df[temp_df['country']=='france'] \n",
    "indv_model = country_df[country_df['death_rate'] != 0]\n",
    "indv_temp = indv_model['tempC']\n",
    "indv_mort = indv_model['death_rate']\n",
    "scipy.stats.pearsonr(indv_temp, indv_mort)[0]"
   ]
  },
  {
   "cell_type": "markdown",
   "metadata": {},
   "source": [
    "CORRELATION OF DEATH RATE WITH TEMP IN ITALY"
   ]
  },
  {
   "cell_type": "code",
   "execution_count": 11,
   "metadata": {},
   "outputs": [
    {
     "data": {
      "text/plain": [
       "0.6944483723868662"
      ]
     },
     "execution_count": 11,
     "metadata": {},
     "output_type": "execute_result"
    }
   ],
   "source": [
    "country_df = temp_df[temp_df['country']=='italy'] \n",
    "indv_model = country_df[country_df['death_rate'] != 0]\n",
    "indv_temp = indv_model['tempC']\n",
    "indv_mort = indv_model['death_rate']\n",
    "scipy.stats.pearsonr(indv_temp, indv_mort)[0]"
   ]
  },
  {
   "cell_type": "markdown",
   "metadata": {},
   "source": [
    "CORRELATION OF DEATH RATE WITH TEMP IN GERMANY"
   ]
  },
  {
   "cell_type": "code",
   "execution_count": 12,
   "metadata": {},
   "outputs": [
    {
     "data": {
      "text/plain": [
       "-0.12534491755079324"
      ]
     },
     "execution_count": 12,
     "metadata": {},
     "output_type": "execute_result"
    }
   ],
   "source": [
    "country_df = temp_df[temp_df['country']=='germany'] \n",
    "indv_model = country_df[country_df['death_rate'] != 0]\n",
    "indv_temp = indv_model['tempC']\n",
    "indv_mort = indv_model['death_rate']\n",
    "scipy.stats.pearsonr(indv_temp, indv_mort)[0]"
   ]
  },
  {
   "cell_type": "markdown",
   "metadata": {},
   "source": [
    "CORRELATION OF DEATH RATE WITH TEMP IN IRAN"
   ]
  },
  {
   "cell_type": "code",
   "execution_count": 13,
   "metadata": {},
   "outputs": [
    {
     "data": {
      "text/plain": [
       "-0.3936090684875237"
      ]
     },
     "execution_count": 13,
     "metadata": {},
     "output_type": "execute_result"
    }
   ],
   "source": [
    "country_df = temp_df[temp_df['country']=='iran'] \n",
    "indv_model = country_df[country_df['death_rate'] != 0]\n",
    "indv_temp = indv_model['tempC']\n",
    "indv_mort = indv_model['death_rate']\n",
    "scipy.stats.pearsonr(indv_temp, indv_mort)[0]"
   ]
  },
  {
   "cell_type": "code",
   "execution_count": 14,
   "metadata": {},
   "outputs": [
    {
     "data": {
      "image/png": "[encoded data removed]",
      "text/plain": [
       "<Figure size 432x288 with 1 Axes>"
      ]
     },
     "metadata": {
      "needs_background": "light"
     },
     "output_type": "display_data"
    }
   ],
   "source": [
    "import matplotlib.pyplot as plt\n",
    "import numpy as np\n",
    "\n",
    "\n",
    "plt.plot(indv_temp, indv_mort, 'o')\n",
    "\n",
    "m, b = np.polyfit(indv_temp, indv_mort, 1)\n",
    "\n",
    "plt.plot(indv_temp, m*indv_temp + b)\n",
    "plt.show()"
   ]
  },
  {
   "cell_type": "markdown",
   "metadata": {},
   "source": [
    "CORRELATION OF DEATH RATE WITH TEMP IN IRAQ"
   ]
  },
  {
   "cell_type": "code",
   "execution_count": 15,
   "metadata": {},
   "outputs": [
    {
     "data": {
      "text/plain": [
       "0.5788054287755247"
      ]
     },
     "execution_count": 15,
     "metadata": {},
     "output_type": "execute_result"
    }
   ],
   "source": [
    "country_df = temp_df[temp_df['country']=='iraq'] \n",
    "indv_model = country_df[country_df['death_rate'] != 0]\n",
    "indv_temp = indv_model['tempC']\n",
    "indv_mort = indv_model['death_rate']\n",
    "scipy.stats.pearsonr(indv_temp, indv_mort)[0]"
   ]
  },
  {
   "cell_type": "markdown",
   "metadata": {},
   "source": [
    "CORRELATION OF DEATH RATE WITH TEMP IN PAKISTAN"
   ]
  },
  {
   "cell_type": "code",
   "execution_count": 16,
   "metadata": {},
   "outputs": [
    {
     "data": {
      "text/plain": [
       "0.33068877993875667"
      ]
     },
     "execution_count": 16,
     "metadata": {},
     "output_type": "execute_result"
    }
   ],
   "source": [
    "country_df = temp_df[temp_df['country']=='pakistan'] \n",
    "indv_model = country_df[country_df['death_rate'] != 0]\n",
    "indv_temp = indv_model['tempC']\n",
    "indv_mort = indv_model['death_rate']\n",
    "scipy.stats.pearsonr(indv_temp, indv_mort)[0]"
   ]
  },
  {
   "cell_type": "markdown",
   "metadata": {},
   "source": [
    "CORRELATION OF DEATH RATE WITH TEMP IN UNITED STATES"
   ]
  },
  {
   "cell_type": "code",
   "execution_count": 17,
   "metadata": {},
   "outputs": [
    {
     "data": {
      "text/plain": [
       "-0.12933254976732775"
      ]
     },
     "execution_count": 17,
     "metadata": {},
     "output_type": "execute_result"
    }
   ],
   "source": [
    "country_df = temp_df[temp_df['country']=='usa'] \n",
    "indv_model = country_df[country_df['death_rate'] != 0]\n",
    "indv_temp = indv_model['tempC']\n",
    "indv_mort = indv_model['death_rate']\n",
    "scipy.stats.pearsonr(indv_temp, indv_mort)[0]"
   ]
  },
  {
   "cell_type": "markdown",
   "metadata": {},
   "source": [
    "CORRELATION OF DEATH RATE WITH TEMP IN DENMARK"
   ]
  },
  {
   "cell_type": "code",
   "execution_count": 18,
   "metadata": {},
   "outputs": [
    {
     "data": {
      "text/plain": [
       "-0.11722165206974783"
      ]
     },
     "execution_count": 18,
     "metadata": {},
     "output_type": "execute_result"
    }
   ],
   "source": [
    "country_df = temp_df[temp_df['country']=='denmark'] \n",
    "indv_model = country_df[country_df['death_rate'] != 0]\n",
    "indv_temp = indv_model['tempC']\n",
    "indv_mort = indv_model['death_rate']\n",
    "scipy.stats.pearsonr(indv_temp, indv_mort)[0]"
   ]
  },
  {
   "cell_type": "markdown",
   "metadata": {},
   "source": [
    "CORRELATION OF DEATH RATE WITH TEMP IN SWEDEN"
   ]
  },
  {
   "cell_type": "code",
   "execution_count": 19,
   "metadata": {},
   "outputs": [
    {
     "data": {
      "text/plain": [
       "0.08722155329219378"
      ]
     },
     "execution_count": 19,
     "metadata": {},
     "output_type": "execute_result"
    }
   ],
   "source": [
    "country_df = temp_df[temp_df['country']=='sweden'] \n",
    "indv_model = country_df[country_df['death_rate'] != 0]\n",
    "indv_temp = indv_model['tempC']\n",
    "indv_mort = indv_model['death_rate']\n",
    "scipy.stats.pearsonr(indv_temp, indv_mort)[0]"
   ]
  },
  {
   "cell_type": "markdown",
   "metadata": {},
   "source": [
    "CORRELATION OF DEATH RATE WITH TEMP IN MEXICO"
   ]
  },
  {
   "cell_type": "code",
   "execution_count": 20,
   "metadata": {},
   "outputs": [
    {
     "data": {
      "text/plain": [
       "-0.9883974006031484"
      ]
     },
     "execution_count": 20,
     "metadata": {},
     "output_type": "execute_result"
    }
   ],
   "source": [
    "country_df = temp_df[temp_df['country']=='mexico'] \n",
    "indv_model = country_df[country_df['death_rate'] != 0]\n",
    "indv_temp = indv_model['tempC']\n",
    "indv_mort = indv_model['death_rate']\n",
    "scipy.stats.pearsonr(indv_temp, indv_mort)[0]"
   ]
  },
  {
   "cell_type": "code",
   "execution_count": 21,
   "metadata": {},
   "outputs": [
    {
     "data": {
      "image/png": "[encoded data removed]",
      "text/plain": [
       "<Figure size 432x288 with 1 Axes>"
      ]
     },
     "metadata": {
      "needs_background": "light"
     },
     "output_type": "display_data"
    }
   ],
   "source": [
    "import matplotlib.pyplot as plt\n",
    "import numpy as np\n",
    "\n",
    "\n",
    "plt.plot(indv_temp, indv_mort, 'o')\n",
    "\n",
    "m, b = np.polyfit(indv_temp, indv_mort, 1)\n",
    "\n",
    "plt.plot(indv_temp, m*indv_temp + b)\n",
    "plt.show()"
   ]
  },
  {
   "cell_type": "markdown",
   "metadata": {},
   "source": [
    "CORRELATION OF DEATH RATE WITH TEMP IN BRAZIL"
   ]
  },
  {
   "cell_type": "code",
   "execution_count": 22,
   "metadata": {},
   "outputs": [
    {
     "data": {
      "text/plain": [
       "-0.19786342764588216"
      ]
     },
     "execution_count": 22,
     "metadata": {},
     "output_type": "execute_result"
    }
   ],
   "source": [
    "country_df = temp_df[temp_df['country']=='brazil'] \n",
    "indv_model = country_df[country_df['death_rate'] != 0]\n",
    "indv_temp = indv_model['tempC']\n",
    "indv_mort = indv_model['death_rate']\n",
    "scipy.stats.pearsonr(indv_temp, indv_mort)[0]"
   ]
  },
  {
   "cell_type": "markdown",
   "metadata": {},
   "source": [
    "CORRELATION OF DEATH RATE WITH TEMP IN TURKEY"
   ]
  },
  {
   "cell_type": "code",
   "execution_count": 23,
   "metadata": {},
   "outputs": [
    {
     "data": {
      "text/plain": [
       "-0.26863929333902087"
      ]
     },
     "execution_count": 23,
     "metadata": {},
     "output_type": "execute_result"
    }
   ],
   "source": [
    "country_df = temp_df[temp_df['country']=='turkey'] \n",
    "indv_model = country_df[country_df['death_rate'] != 0]\n",
    "indv_temp = indv_model['tempC']\n",
    "indv_mort = indv_model['death_rate']\n",
    "scipy.stats.pearsonr(indv_temp, indv_mort)[0]"
   ]
  },
  {
   "cell_type": "code",
   "execution_count": 24,
   "metadata": {},
   "outputs": [
    {
     "data": {
      "image/png": "[encoded data removed]",
      "text/plain": [
       "<Figure size 432x288 with 1 Axes>"
      ]
     },
     "metadata": {
      "needs_background": "light"
     },
     "output_type": "display_data"
    }
   ],
   "source": [
    "plt.plot(indv_temp, indv_mort, 'o')\n",
    "\n",
    "m, b = np.polyfit(indv_temp, indv_mort, 1)\n",
    "\n",
    "plt.plot(indv_temp, m*indv_temp + b)\n",
    "plt.show()"
   ]
  },
  {
   "cell_type": "markdown",
   "metadata": {},
   "source": [
    "CORRELATION OF DEATH RATE WITH TEMP IN EGYPT"
   ]
  },
  {
   "cell_type": "code",
   "execution_count": 25,
   "metadata": {},
   "outputs": [
    {
     "data": {
      "text/plain": [
       "-0.6126057736675262"
      ]
     },
     "execution_count": 25,
     "metadata": {},
     "output_type": "execute_result"
    }
   ],
   "source": [
    "country_df = temp_df[temp_df['country']=='egypt'] \n",
    "indv_model = country_df[country_df['death_rate'] != 0]\n",
    "indv_temp = indv_model['tempC']\n",
    "indv_mort = indv_model['death_rate']\n",
    "scipy.stats.pearsonr(indv_temp, indv_mort)[0]"
   ]
  },
  {
   "cell_type": "code",
   "execution_count": 26,
   "metadata": {},
   "outputs": [
    {
     "data": {
      "image/png": "[encoded data removed]",
      "text/plain": [
       "<Figure size 432x288 with 1 Axes>"
      ]
     },
     "metadata": {
      "needs_background": "light"
     },
     "output_type": "display_data"
    }
   ],
   "source": [
    "plt.plot(indv_temp, indv_mort, 'o')\n",
    "\n",
    "m, b = np.polyfit(indv_temp, indv_mort, 1)\n",
    "\n",
    "plt.plot(indv_temp, m*indv_temp + b)\n",
    "plt.show()"
   ]
  },
  {
   "cell_type": "markdown",
   "metadata": {},
   "source": [
    "CORRELATION OF DEATH RATE WITH TEMP IN INDONESIA"
   ]
  },
  {
   "cell_type": "code",
   "execution_count": 27,
   "metadata": {},
   "outputs": [
    {
     "data": {
      "text/plain": [
       "-0.3601516687871328"
      ]
     },
     "execution_count": 27,
     "metadata": {},
     "output_type": "execute_result"
    }
   ],
   "source": [
    "country_df = temp_df[temp_df['country']=='indonesia'] \n",
    "indv_model = country_df[country_df['death_rate'] != 0]\n",
    "indv_temp = indv_model['tempC']\n",
    "indv_mort = indv_model['death_rate']\n",
    "scipy.stats.pearsonr(indv_temp, indv_mort)[0]"
   ]
  },
  {
   "cell_type": "code",
   "execution_count": 28,
   "metadata": {},
   "outputs": [
    {
     "data": {
      "image/png": "[encoded data removed]",
      "text/plain": [
       "<Figure size 432x288 with 1 Axes>"
      ]
     },
     "metadata": {
      "needs_background": "light"
     },
     "output_type": "display_data"
    }
   ],
   "source": [
    "plt.plot(indv_temp, indv_mort, 'o')\n",
    "\n",
    "m, b = np.polyfit(indv_temp, indv_mort, 1)\n",
    "\n",
    "plt.plot(indv_temp, m*indv_temp + b)\n",
    "plt.show()"
   ]
  },
  {
   "cell_type": "markdown",
   "metadata": {},
   "source": [
    "CORRELATION OF DEATH RATE WITH TEMP IN PHILIPPINES"
   ]
  },
  {
   "cell_type": "code",
   "execution_count": 29,
   "metadata": {},
   "outputs": [
    {
     "data": {
      "text/plain": [
       "-0.7022498214692349"
      ]
     },
     "execution_count": 29,
     "metadata": {},
     "output_type": "execute_result"
    }
   ],
   "source": [
    "country_df = temp_df[temp_df['country']=='philippines'] \n",
    "indv_model = country_df[country_df['death_rate'] != 0]\n",
    "indv_temp = indv_model['tempC']\n",
    "indv_mort = indv_model['death_rate']\n",
    "scipy.stats.pearsonr(indv_temp, indv_mort)[0]"
   ]
  },
  {
   "cell_type": "code",
   "execution_count": 30,
   "metadata": {},
   "outputs": [
    {
     "data": {
      "image/png": "[encoded data removed]",
      "text/plain": [
       "<Figure size 432x288 with 1 Axes>"
      ]
     },
     "metadata": {
      "needs_background": "light"
     },
     "output_type": "display_data"
    }
   ],
   "source": [
    "plt.plot(indv_temp, indv_mort, 'o')\n",
    "\n",
    "m, b = np.polyfit(indv_temp, indv_mort, 1)\n",
    "\n",
    "plt.plot(indv_temp, m*indv_temp + b)\n",
    "plt.show()"
   ]
  }
 ],
 "metadata": {
  "kernelspec": {
   "display_name": "Python 3",
   "language": "python",
   "name": "python3"
  },
  "language_info": {
   "codemirror_mode": {
    "name": "ipython",
    "version": 3
   },
   "file_extension": ".py",
   "mimetype": "text/x-python",
   "name": "python",
   "nbconvert_exporter": "python",
   "pygments_lexer": "ipython3",
   "version": "3.7.4"
  }
 },
 "nbformat": 4,
 "nbformat_minor": 2
}
