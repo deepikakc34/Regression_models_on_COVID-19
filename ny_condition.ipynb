{
 "cells": [
  {
   "cell_type": "code",
   "execution_count": 1,
   "metadata": {},
   "outputs": [],
   "source": [
    "import pandas as pd\n",
    "import scipy.stats\n",
    "nycond_df = pd.read_excel('NY_covid19.xlsx')"
   ]
  },
  {
   "cell_type": "code",
   "execution_count": 2,
   "metadata": {},
   "outputs": [
    {
     "data": {
      "text/html": [
       "<div>\n",
       "<style scoped>\n",
       "    .dataframe tbody tr th:only-of-type {\n",
       "        vertical-align: middle;\n",
       "    }\n",
       "\n",
       "    .dataframe tbody tr th {\n",
       "        vertical-align: top;\n",
       "    }\n",
       "\n",
       "    .dataframe thead th {\n",
       "        text-align: right;\n",
       "    }\n",
       "</style>\n",
       "<table border=\"1\" class=\"dataframe\">\n",
       "  <thead>\n",
       "    <tr style=\"text-align: right;\">\n",
       "      <th></th>\n",
       "      <th>age_groups</th>\n",
       "      <th>death_counts</th>\n",
       "      <th>death_rate</th>\n",
       "      <th>underlyin_cond</th>\n",
       "      <th>without_cond</th>\n",
       "      <th>unknown</th>\n",
       "      <th>state</th>\n",
       "    </tr>\n",
       "  </thead>\n",
       "  <tbody>\n",
       "    <tr>\n",
       "      <td>0</td>\n",
       "      <td>0 - 17 years old</td>\n",
       "      <td>9</td>\n",
       "      <td>0.0006</td>\n",
       "      <td>6</td>\n",
       "      <td>3</td>\n",
       "      <td>0</td>\n",
       "      <td>new york</td>\n",
       "    </tr>\n",
       "    <tr>\n",
       "      <td>1</td>\n",
       "      <td>18 - 44 years old</td>\n",
       "      <td>601</td>\n",
       "      <td>0.0390</td>\n",
       "      <td>476</td>\n",
       "      <td>17</td>\n",
       "      <td>108</td>\n",
       "      <td>new york</td>\n",
       "    </tr>\n",
       "    <tr>\n",
       "      <td>2</td>\n",
       "      <td>45 - 64 years old</td>\n",
       "      <td>3413</td>\n",
       "      <td>0.2240</td>\n",
       "      <td>2851</td>\n",
       "      <td>72</td>\n",
       "      <td>490</td>\n",
       "      <td>new york</td>\n",
       "    </tr>\n",
       "    <tr>\n",
       "      <td>3</td>\n",
       "      <td>65 - 74 years old</td>\n",
       "      <td>3788</td>\n",
       "      <td>0.2490</td>\n",
       "      <td>2801</td>\n",
       "      <td>5</td>\n",
       "      <td>982</td>\n",
       "      <td>new york</td>\n",
       "    </tr>\n",
       "    <tr>\n",
       "      <td>4</td>\n",
       "      <td>75+ years old</td>\n",
       "      <td>7419</td>\n",
       "      <td>0.4870</td>\n",
       "      <td>5236</td>\n",
       "      <td>2</td>\n",
       "      <td>2181</td>\n",
       "      <td>new york</td>\n",
       "    </tr>\n",
       "  </tbody>\n",
       "</table>\n",
       "</div>"
      ],
      "text/plain": [
       "          age_groups  death_counts  death_rate  underlyin_cond  without_cond  \\\n",
       "0   0 - 17 years old             9      0.0006               6             3   \n",
       "1  18 - 44 years old           601      0.0390             476            17   \n",
       "2  45 - 64 years old          3413      0.2240            2851            72   \n",
       "3  65 - 74 years old          3788      0.2490            2801             5   \n",
       "4      75+ years old          7419      0.4870            5236             2   \n",
       "\n",
       "   unknown     state  \n",
       "0        0  new york  \n",
       "1      108  new york  \n",
       "2      490  new york  \n",
       "3      982  new york  \n",
       "4     2181  new york  "
      ]
     },
     "execution_count": 2,
     "metadata": {},
     "output_type": "execute_result"
    }
   ],
   "source": [
    "nycond_df"
   ]
  },
  {
   "cell_type": "markdown",
   "metadata": {},
   "source": [
    "#CORRELATION OF DEATHS WITH UNDERLYING HEALTH CONDITIONS"
   ]
  },
  {
   "cell_type": "code",
   "execution_count": 3,
   "metadata": {},
   "outputs": [],
   "source": [
    "mort_cnt = nycond_df['death_counts']\n",
    "cond_cnt = nycond_df['underlyin_cond']"
   ]
  },
  {
   "cell_type": "markdown",
   "metadata": {},
   "source": [
    "PEARSON CORRELATION"
   ]
  },
  {
   "cell_type": "code",
   "execution_count": 4,
   "metadata": {},
   "outputs": [
    {
     "data": {
      "text/plain": [
       "0.9961398465702848"
      ]
     },
     "execution_count": 4,
     "metadata": {},
     "output_type": "execute_result"
    }
   ],
   "source": [
    "scipy.stats.pearsonr(mort_cnt, cond_cnt)[0]"
   ]
  },
  {
   "cell_type": "code",
   "execution_count": 9,
   "metadata": {},
   "outputs": [
    {
     "data": {
      "text/plain": [
       "[<matplotlib.lines.Line2D at 0x7fbf802e9990>]"
      ]
     },
     "execution_count": 9,
     "metadata": {},
     "output_type": "execute_result"
    },
    {
     "data": {
      "image/png": "[encoded data removed]",
      "text/plain": [
       "<Figure size 432x288 with 1 Axes>"
      ]
     },
     "metadata": {
      "needs_background": "light"
     },
     "output_type": "display_data"
    }
   ],
   "source": [
    "import matplotlib.pyplot as plt\n",
    "import numpy as np\n",
    "\n",
    "\n",
    "plt.plot(mort_cnt, cond_cnt, 'o')\n",
    "\n",
    "m, b = np.polyfit(mort_cnt, cond_cnt, 1)\n",
    "\n",
    "plt.plot(mort_cnt, m*mort_cnt + b)"
   ]
  },
  {
   "cell_type": "code",
   "execution_count": 6,
   "metadata": {},
   "outputs": [
    {
     "data": {
      "text/plain": [
       "-0.03345622931706671"
      ]
     },
     "execution_count": 6,
     "metadata": {},
     "output_type": "execute_result"
    }
   ],
   "source": [
    "no_cnd = nycond_df['without_cond']\n",
    "scipy.stats.pearsonr(mort_cnt, no_cnd)[0]"
   ]
  },
  {
   "cell_type": "code",
   "execution_count": 7,
   "metadata": {},
   "outputs": [],
   "source": [
    "dum_cols = pd.get_dummies(nycond_df['age_groups'])"
   ]
  },
  {
   "cell_type": "code",
   "execution_count": 8,
   "metadata": {},
   "outputs": [],
   "source": [
    "nycond_df = nycond_df.join(dum_cols)"
   ]
  }
 ],
 "metadata": {
  "kernelspec": {
   "display_name": "Python 3",
   "language": "python",
   "name": "python3"
  },
  "language_info": {
   "codemirror_mode": {
    "name": "ipython",
    "version": 3
   },
   "file_extension": ".py",
   "mimetype": "text/x-python",
   "name": "python",
   "nbconvert_exporter": "python",
   "pygments_lexer": "ipython3",
   "version": "3.7.4"
  }
 },
 "nbformat": 4,
 "nbformat_minor": 2
}
