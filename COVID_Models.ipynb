{
 "cells": [
  {
   "cell_type": "code",
   "execution_count": 1,
   "metadata": {},
   "outputs": [],
   "source": [
    "import pandas as pd\n",
    "import numpy as np\n",
    "from scipy.stats import pearsonr\n",
    "%matplotlib inline\n",
    "import matplotlib.pyplot as plt\n",
    "import statsmodels.api as sm"
   ]
  },
  {
   "cell_type": "code",
   "execution_count": 2,
   "metadata": {},
   "outputs": [],
   "source": [
    "wrldmtr_df = pd.read_excel('worldometer.xlsx')\n"
   ]
  },
  {
   "cell_type": "code",
   "execution_count": 3,
   "metadata": {},
   "outputs": [
    {
     "name": "stdout",
     "output_type": "stream",
     "text": [
      "<class 'pandas.core.frame.DataFrame'>\n",
      "RangeIndex: 80 entries, 0 to 79\n",
      "Data columns (total 17 columns):\n",
      "country                      80 non-null object\n",
      "total cases                  80 non-null int64\n",
      "new cases                    79 non-null float64\n",
      "total deaths                 80 non-null int64\n",
      "new deaths                   63 non-null float64\n",
      "total recovered              80 non-null int64\n",
      "active cases                 80 non-null int64\n",
      "serious, critical            71 non-null float64\n",
      "case per pop                 80 non-null int64\n",
      "death per pop                80 non-null float64\n",
      "total tests                  75 non-null float64\n",
      "tests/1M pop                 75 non-null float64\n",
      "population                   80 non-null int64\n",
      "median age                   80 non-null float64\n",
      "crude mortality rate         80 non-null float64\n",
      "population density(km)       80 non-null float64\n",
      "population density(miles)    80 non-null float64\n",
      "dtypes: float64(10), int64(6), object(1)\n",
      "memory usage: 10.8+ KB\n"
     ]
    }
   ],
   "source": [
    "wrldmtr_df.info()"
   ]
  },
  {
   "cell_type": "code",
   "execution_count": 4,
   "metadata": {},
   "outputs": [
    {
     "data": {
      "text/html": [
       "<div>\n",
       "<style scoped>\n",
       "    .dataframe tbody tr th:only-of-type {\n",
       "        vertical-align: middle;\n",
       "    }\n",
       "\n",
       "    .dataframe tbody tr th {\n",
       "        vertical-align: top;\n",
       "    }\n",
       "\n",
       "    .dataframe thead th {\n",
       "        text-align: right;\n",
       "    }\n",
       "</style>\n",
       "<table border=\"1\" class=\"dataframe\">\n",
       "  <thead>\n",
       "    <tr style=\"text-align: right;\">\n",
       "      <th></th>\n",
       "      <th>country</th>\n",
       "      <th>total cases</th>\n",
       "      <th>new cases</th>\n",
       "      <th>total deaths</th>\n",
       "      <th>new deaths</th>\n",
       "      <th>total recovered</th>\n",
       "      <th>active cases</th>\n",
       "      <th>serious, critical</th>\n",
       "      <th>case per pop</th>\n",
       "      <th>death per pop</th>\n",
       "      <th>total tests</th>\n",
       "      <th>tests/1M pop</th>\n",
       "      <th>population</th>\n",
       "      <th>median age</th>\n",
       "      <th>crude mortality rate</th>\n",
       "      <th>population density(km)</th>\n",
       "      <th>population density(miles)</th>\n",
       "    </tr>\n",
       "  </thead>\n",
       "  <tbody>\n",
       "    <tr>\n",
       "      <td>0</td>\n",
       "      <td>afghanistan</td>\n",
       "      <td>25527</td>\n",
       "      <td>761.0</td>\n",
       "      <td>478</td>\n",
       "      <td>7.0</td>\n",
       "      <td>5164</td>\n",
       "      <td>19885</td>\n",
       "      <td>19.0</td>\n",
       "      <td>656</td>\n",
       "      <td>12.0</td>\n",
       "      <td>57532.0</td>\n",
       "      <td>1480.0</td>\n",
       "      <td>330922877</td>\n",
       "      <td>38.3</td>\n",
       "      <td>8.472173</td>\n",
       "      <td>59.6850</td>\n",
       "      <td>154.5841</td>\n",
       "    </tr>\n",
       "    <tr>\n",
       "      <td>1</td>\n",
       "      <td>algeria</td>\n",
       "      <td>11031</td>\n",
       "      <td>112.0</td>\n",
       "      <td>777</td>\n",
       "      <td>10.0</td>\n",
       "      <td>7735</td>\n",
       "      <td>2519</td>\n",
       "      <td>39.0</td>\n",
       "      <td>252</td>\n",
       "      <td>18.0</td>\n",
       "      <td>0.0</td>\n",
       "      <td>0.0</td>\n",
       "      <td>212496348</td>\n",
       "      <td>33.5</td>\n",
       "      <td>9.128289</td>\n",
       "      <td>18.4113</td>\n",
       "      <td>47.6854</td>\n",
       "    </tr>\n",
       "    <tr>\n",
       "      <td>2</td>\n",
       "      <td>argentina</td>\n",
       "      <td>32785</td>\n",
       "      <td>1208.0</td>\n",
       "      <td>854</td>\n",
       "      <td>21.0</td>\n",
       "      <td>9891</td>\n",
       "      <td>22040</td>\n",
       "      <td>274.0</td>\n",
       "      <td>726</td>\n",
       "      <td>19.0</td>\n",
       "      <td>239941.0</td>\n",
       "      <td>5311.0</td>\n",
       "      <td>145932063</td>\n",
       "      <td>39.6</td>\n",
       "      <td>7.947883</td>\n",
       "      <td>16.2551</td>\n",
       "      <td>42.1008</td>\n",
       "    </tr>\n",
       "    <tr>\n",
       "      <td>3</td>\n",
       "      <td>armenia</td>\n",
       "      <td>17064</td>\n",
       "      <td>397.0</td>\n",
       "      <td>285</td>\n",
       "      <td>16.0</td>\n",
       "      <td>6276</td>\n",
       "      <td>10503</td>\n",
       "      <td>10.0</td>\n",
       "      <td>5759</td>\n",
       "      <td>96.0</td>\n",
       "      <td>83600.0</td>\n",
       "      <td>28214.0</td>\n",
       "      <td>1379418901</td>\n",
       "      <td>28.2</td>\n",
       "      <td>4.343850</td>\n",
       "      <td>99.6282</td>\n",
       "      <td>258.0372</td>\n",
       "    </tr>\n",
       "    <tr>\n",
       "      <td>4</td>\n",
       "      <td>australia</td>\n",
       "      <td>7335</td>\n",
       "      <td>15.0</td>\n",
       "      <td>102</td>\n",
       "      <td>0.0</td>\n",
       "      <td>6851</td>\n",
       "      <td>382</td>\n",
       "      <td>4.0</td>\n",
       "      <td>288</td>\n",
       "      <td>4.0</td>\n",
       "      <td>1830665.0</td>\n",
       "      <td>71828.0</td>\n",
       "      <td>60465149</td>\n",
       "      <td>47.9</td>\n",
       "      <td>1.466993</td>\n",
       "      <td>3.3151</td>\n",
       "      <td>8.5861</td>\n",
       "    </tr>\n",
       "    <tr>\n",
       "      <td>...</td>\n",
       "      <td>...</td>\n",
       "      <td>...</td>\n",
       "      <td>...</td>\n",
       "      <td>...</td>\n",
       "      <td>...</td>\n",
       "      <td>...</td>\n",
       "      <td>...</td>\n",
       "      <td>...</td>\n",
       "      <td>...</td>\n",
       "      <td>...</td>\n",
       "      <td>...</td>\n",
       "      <td>...</td>\n",
       "      <td>...</td>\n",
       "      <td>...</td>\n",
       "      <td>...</td>\n",
       "      <td>...</td>\n",
       "      <td>...</td>\n",
       "    </tr>\n",
       "    <tr>\n",
       "      <td>75</td>\n",
       "      <td>turkey</td>\n",
       "      <td>179831</td>\n",
       "      <td>1592.0</td>\n",
       "      <td>4825</td>\n",
       "      <td>18.0</td>\n",
       "      <td>152364</td>\n",
       "      <td>22642</td>\n",
       "      <td>722.0</td>\n",
       "      <td>2133</td>\n",
       "      <td>57.0</td>\n",
       "      <td>2674203.0</td>\n",
       "      <td>31723.0</td>\n",
       "      <td>2083377</td>\n",
       "      <td>37.4</td>\n",
       "      <td>3.069553</td>\n",
       "      <td>107.6355</td>\n",
       "      <td>278.7759</td>\n",
       "    </tr>\n",
       "    <tr>\n",
       "      <td>76</td>\n",
       "      <td>uae</td>\n",
       "      <td>42636</td>\n",
       "      <td>342.0</td>\n",
       "      <td>291</td>\n",
       "      <td>2.0</td>\n",
       "      <td>28129</td>\n",
       "      <td>14216</td>\n",
       "      <td>1.0</td>\n",
       "      <td>4313</td>\n",
       "      <td>29.0</td>\n",
       "      <td>2626000.0</td>\n",
       "      <td>265652.0</td>\n",
       "      <td>9661255</td>\n",
       "      <td>41.7</td>\n",
       "      <td>1.023927</td>\n",
       "      <td>118.3062</td>\n",
       "      <td>306.4132</td>\n",
       "    </tr>\n",
       "    <tr>\n",
       "      <td>77</td>\n",
       "      <td>ukraine</td>\n",
       "      <td>31810</td>\n",
       "      <td>656.0</td>\n",
       "      <td>901</td>\n",
       "      <td>12.0</td>\n",
       "      <td>14253</td>\n",
       "      <td>16656</td>\n",
       "      <td>314.0</td>\n",
       "      <td>727</td>\n",
       "      <td>21.0</td>\n",
       "      <td>497284.0</td>\n",
       "      <td>11368.0</td>\n",
       "      <td>625504</td>\n",
       "      <td>39.3</td>\n",
       "      <td>5.945625</td>\n",
       "      <td>72.4669</td>\n",
       "      <td>187.6892</td>\n",
       "    </tr>\n",
       "    <tr>\n",
       "      <td>78</td>\n",
       "      <td>usa</td>\n",
       "      <td>2182911</td>\n",
       "      <td>20683.0</td>\n",
       "      <td>118282</td>\n",
       "      <td>424.0</td>\n",
       "      <td>881120</td>\n",
       "      <td>1183509</td>\n",
       "      <td>16716.0</td>\n",
       "      <td>6596</td>\n",
       "      <td>357.0</td>\n",
       "      <td>25241128.0</td>\n",
       "      <td>76275.0</td>\n",
       "      <td>2223082</td>\n",
       "      <td>20.5</td>\n",
       "      <td>11.835277</td>\n",
       "      <td>35.3160</td>\n",
       "      <td>91.4683</td>\n",
       "    </tr>\n",
       "    <tr>\n",
       "      <td>79</td>\n",
       "      <td>uzbekistan</td>\n",
       "      <td>5263</td>\n",
       "      <td>183.0</td>\n",
       "      <td>19</td>\n",
       "      <td>0.0</td>\n",
       "      <td>4019</td>\n",
       "      <td>1225</td>\n",
       "      <td>17.0</td>\n",
       "      <td>157</td>\n",
       "      <td>0.6</td>\n",
       "      <td>748555.0</td>\n",
       "      <td>22380.0</td>\n",
       "      <td>6484874</td>\n",
       "      <td>27.6</td>\n",
       "      <td>0.470530</td>\n",
       "      <td>74.8082</td>\n",
       "      <td>193.7533</td>\n",
       "    </tr>\n",
       "  </tbody>\n",
       "</table>\n",
       "<p>80 rows × 17 columns</p>\n",
       "</div>"
      ],
      "text/plain": [
       "        country  total cases  new cases  total deaths  new deaths  \\\n",
       "0   afghanistan        25527      761.0           478         7.0   \n",
       "1       algeria        11031      112.0           777        10.0   \n",
       "2     argentina        32785     1208.0           854        21.0   \n",
       "3       armenia        17064      397.0           285        16.0   \n",
       "4     australia         7335       15.0           102         0.0   \n",
       "..          ...          ...        ...           ...         ...   \n",
       "75       turkey       179831     1592.0          4825        18.0   \n",
       "76          uae        42636      342.0           291         2.0   \n",
       "77      ukraine        31810      656.0           901        12.0   \n",
       "78          usa      2182911    20683.0        118282       424.0   \n",
       "79   uzbekistan         5263      183.0            19         0.0   \n",
       "\n",
       "    total recovered  active cases  serious, critical  case per pop  \\\n",
       "0              5164         19885               19.0           656   \n",
       "1              7735          2519               39.0           252   \n",
       "2              9891         22040              274.0           726   \n",
       "3              6276         10503               10.0          5759   \n",
       "4              6851           382                4.0           288   \n",
       "..              ...           ...                ...           ...   \n",
       "75           152364         22642              722.0          2133   \n",
       "76            28129         14216                1.0          4313   \n",
       "77            14253         16656              314.0           727   \n",
       "78           881120       1183509            16716.0          6596   \n",
       "79             4019          1225               17.0           157   \n",
       "\n",
       "    death per pop  total tests  tests/1M pop  population  median age  \\\n",
       "0            12.0      57532.0        1480.0   330922877        38.3   \n",
       "1            18.0          0.0           0.0   212496348        33.5   \n",
       "2            19.0     239941.0        5311.0   145932063        39.6   \n",
       "3            96.0      83600.0       28214.0  1379418901        28.2   \n",
       "4             4.0    1830665.0       71828.0    60465149        47.9   \n",
       "..            ...          ...           ...         ...         ...   \n",
       "75           57.0    2674203.0       31723.0     2083377        37.4   \n",
       "76           29.0    2626000.0      265652.0     9661255        41.7   \n",
       "77           21.0     497284.0       11368.0      625504        39.3   \n",
       "78          357.0   25241128.0       76275.0     2223082        20.5   \n",
       "79            0.6     748555.0       22380.0     6484874        27.6   \n",
       "\n",
       "    crude mortality rate  population density(km)  population density(miles)  \n",
       "0               8.472173                 59.6850                   154.5841  \n",
       "1               9.128289                 18.4113                    47.6854  \n",
       "2               7.947883                 16.2551                    42.1008  \n",
       "3               4.343850                 99.6282                   258.0372  \n",
       "4               1.466993                  3.3151                     8.5861  \n",
       "..                   ...                     ...                        ...  \n",
       "75              3.069553                107.6355                   278.7759  \n",
       "76              1.023927                118.3062                   306.4132  \n",
       "77              5.945625                 72.4669                   187.6892  \n",
       "78             11.835277                 35.3160                    91.4683  \n",
       "79              0.470530                 74.8082                   193.7533  \n",
       "\n",
       "[80 rows x 17 columns]"
      ]
     },
     "execution_count": 4,
     "metadata": {},
     "output_type": "execute_result"
    }
   ],
   "source": [
    "wrldmtr_df['country'] = wrldmtr_df['country'].str.lower()\n",
    "wrldmtr_df = wrldmtr_df.fillna(0)\n",
    "wrldmtr_df"
   ]
  },
  {
   "cell_type": "code",
   "execution_count": 5,
   "metadata": {},
   "outputs": [
    {
     "data": {
      "text/html": [
       "<div>\n",
       "<style scoped>\n",
       "    .dataframe tbody tr th:only-of-type {\n",
       "        vertical-align: middle;\n",
       "    }\n",
       "\n",
       "    .dataframe tbody tr th {\n",
       "        vertical-align: top;\n",
       "    }\n",
       "\n",
       "    .dataframe thead th {\n",
       "        text-align: right;\n",
       "    }\n",
       "</style>\n",
       "<table border=\"1\" class=\"dataframe\">\n",
       "  <thead>\n",
       "    <tr style=\"text-align: right;\">\n",
       "      <th></th>\n",
       "      <th>country</th>\n",
       "      <th>date</th>\n",
       "      <th>total cases</th>\n",
       "      <th>total deaths</th>\n",
       "      <th>total deaths per million</th>\n",
       "      <th>population</th>\n",
       "      <th>population density</th>\n",
       "      <th>median age</th>\n",
       "      <th>aged 65 older</th>\n",
       "      <th>aged 70 older</th>\n",
       "      <th>diabetes prevalence</th>\n",
       "    </tr>\n",
       "  </thead>\n",
       "  <tbody>\n",
       "    <tr>\n",
       "      <td>0</td>\n",
       "      <td>aruba</td>\n",
       "      <td>3/13/20</td>\n",
       "      <td>2</td>\n",
       "      <td>0</td>\n",
       "      <td>0.0</td>\n",
       "      <td>106766</td>\n",
       "      <td>584.8</td>\n",
       "      <td>41.2</td>\n",
       "      <td>13.1</td>\n",
       "      <td>7.5</td>\n",
       "      <td>11.6</td>\n",
       "    </tr>\n",
       "    <tr>\n",
       "      <td>1</td>\n",
       "      <td>aruba</td>\n",
       "      <td>3/20/20</td>\n",
       "      <td>4</td>\n",
       "      <td>0</td>\n",
       "      <td>0.0</td>\n",
       "      <td>106766</td>\n",
       "      <td>584.8</td>\n",
       "      <td>41.2</td>\n",
       "      <td>13.1</td>\n",
       "      <td>7.5</td>\n",
       "      <td>11.6</td>\n",
       "    </tr>\n",
       "    <tr>\n",
       "      <td>2</td>\n",
       "      <td>aruba</td>\n",
       "      <td>3/24/20</td>\n",
       "      <td>12</td>\n",
       "      <td>0</td>\n",
       "      <td>0.0</td>\n",
       "      <td>106766</td>\n",
       "      <td>584.8</td>\n",
       "      <td>41.2</td>\n",
       "      <td>13.1</td>\n",
       "      <td>7.5</td>\n",
       "      <td>11.6</td>\n",
       "    </tr>\n",
       "    <tr>\n",
       "      <td>3</td>\n",
       "      <td>aruba</td>\n",
       "      <td>3/25/20</td>\n",
       "      <td>17</td>\n",
       "      <td>0</td>\n",
       "      <td>0.0</td>\n",
       "      <td>106766</td>\n",
       "      <td>584.8</td>\n",
       "      <td>41.2</td>\n",
       "      <td>13.1</td>\n",
       "      <td>7.5</td>\n",
       "      <td>11.6</td>\n",
       "    </tr>\n",
       "    <tr>\n",
       "      <td>4</td>\n",
       "      <td>aruba</td>\n",
       "      <td>3/26/20</td>\n",
       "      <td>19</td>\n",
       "      <td>0</td>\n",
       "      <td>0.0</td>\n",
       "      <td>106766</td>\n",
       "      <td>584.8</td>\n",
       "      <td>41.2</td>\n",
       "      <td>13.1</td>\n",
       "      <td>7.5</td>\n",
       "      <td>11.6</td>\n",
       "    </tr>\n",
       "    <tr>\n",
       "      <td>...</td>\n",
       "      <td>...</td>\n",
       "      <td>...</td>\n",
       "      <td>...</td>\n",
       "      <td>...</td>\n",
       "      <td>...</td>\n",
       "      <td>...</td>\n",
       "      <td>...</td>\n",
       "      <td>...</td>\n",
       "      <td>...</td>\n",
       "      <td>...</td>\n",
       "      <td>...</td>\n",
       "    </tr>\n",
       "    <tr>\n",
       "      <td>19703</td>\n",
       "      <td>international</td>\n",
       "      <td>2/28/20</td>\n",
       "      <td>705</td>\n",
       "      <td>4</td>\n",
       "      <td>0.0</td>\n",
       "      <td>0</td>\n",
       "      <td>0.0</td>\n",
       "      <td>0.0</td>\n",
       "      <td>0.0</td>\n",
       "      <td>0.0</td>\n",
       "      <td>0.0</td>\n",
       "    </tr>\n",
       "    <tr>\n",
       "      <td>19704</td>\n",
       "      <td>international</td>\n",
       "      <td>2/29/20</td>\n",
       "      <td>705</td>\n",
       "      <td>6</td>\n",
       "      <td>0.0</td>\n",
       "      <td>0</td>\n",
       "      <td>0.0</td>\n",
       "      <td>0.0</td>\n",
       "      <td>0.0</td>\n",
       "      <td>0.0</td>\n",
       "      <td>0.0</td>\n",
       "    </tr>\n",
       "    <tr>\n",
       "      <td>19705</td>\n",
       "      <td>international</td>\n",
       "      <td>3/1/20</td>\n",
       "      <td>705</td>\n",
       "      <td>6</td>\n",
       "      <td>0.0</td>\n",
       "      <td>0</td>\n",
       "      <td>0.0</td>\n",
       "      <td>0.0</td>\n",
       "      <td>0.0</td>\n",
       "      <td>0.0</td>\n",
       "      <td>0.0</td>\n",
       "    </tr>\n",
       "    <tr>\n",
       "      <td>19706</td>\n",
       "      <td>international</td>\n",
       "      <td>3/2/20</td>\n",
       "      <td>705</td>\n",
       "      <td>6</td>\n",
       "      <td>0.0</td>\n",
       "      <td>0</td>\n",
       "      <td>0.0</td>\n",
       "      <td>0.0</td>\n",
       "      <td>0.0</td>\n",
       "      <td>0.0</td>\n",
       "      <td>0.0</td>\n",
       "    </tr>\n",
       "    <tr>\n",
       "      <td>19707</td>\n",
       "      <td>international</td>\n",
       "      <td>3/10/20</td>\n",
       "      <td>696</td>\n",
       "      <td>7</td>\n",
       "      <td>0.0</td>\n",
       "      <td>0</td>\n",
       "      <td>0.0</td>\n",
       "      <td>0.0</td>\n",
       "      <td>0.0</td>\n",
       "      <td>0.0</td>\n",
       "      <td>0.0</td>\n",
       "    </tr>\n",
       "  </tbody>\n",
       "</table>\n",
       "<p>19708 rows × 11 columns</p>\n",
       "</div>"
      ],
      "text/plain": [
       "             country     date  total cases  total deaths  \\\n",
       "0              aruba  3/13/20            2             0   \n",
       "1              aruba  3/20/20            4             0   \n",
       "2              aruba  3/24/20           12             0   \n",
       "3              aruba  3/25/20           17             0   \n",
       "4              aruba  3/26/20           19             0   \n",
       "...              ...      ...          ...           ...   \n",
       "19703  international  2/28/20          705             4   \n",
       "19704  international  2/29/20          705             6   \n",
       "19705  international   3/1/20          705             6   \n",
       "19706  international   3/2/20          705             6   \n",
       "19707  international  3/10/20          696             7   \n",
       "\n",
       "       total deaths per million  population  population density  median age  \\\n",
       "0                           0.0      106766               584.8        41.2   \n",
       "1                           0.0      106766               584.8        41.2   \n",
       "2                           0.0      106766               584.8        41.2   \n",
       "3                           0.0      106766               584.8        41.2   \n",
       "4                           0.0      106766               584.8        41.2   \n",
       "...                         ...         ...                 ...         ...   \n",
       "19703                       0.0           0                 0.0         0.0   \n",
       "19704                       0.0           0                 0.0         0.0   \n",
       "19705                       0.0           0                 0.0         0.0   \n",
       "19706                       0.0           0                 0.0         0.0   \n",
       "19707                       0.0           0                 0.0         0.0   \n",
       "\n",
       "       aged 65 older  aged 70 older  diabetes prevalence  \n",
       "0               13.1            7.5                 11.6  \n",
       "1               13.1            7.5                 11.6  \n",
       "2               13.1            7.5                 11.6  \n",
       "3               13.1            7.5                 11.6  \n",
       "4               13.1            7.5                 11.6  \n",
       "...              ...            ...                  ...  \n",
       "19703            0.0            0.0                  0.0  \n",
       "19704            0.0            0.0                  0.0  \n",
       "19705            0.0            0.0                  0.0  \n",
       "19706            0.0            0.0                  0.0  \n",
       "19707            0.0            0.0                  0.0  \n",
       "\n",
       "[19708 rows x 11 columns]"
      ]
     },
     "execution_count": 5,
     "metadata": {},
     "output_type": "execute_result"
    }
   ],
   "source": [
    "prov_df1 = pd.read_excel('provisional_popdensity_median_clean.xlsx')\n",
    "prov_df1"
   ]
  },
  {
   "cell_type": "code",
   "execution_count": 6,
   "metadata": {},
   "outputs": [
    {
     "data": {
      "text/plain": [
       "'5/9/20'"
      ]
     },
     "execution_count": 6,
     "metadata": {},
     "output_type": "execute_result"
    }
   ],
   "source": [
    "max_date = prov_df1['date'].max()\n",
    "max_date"
   ]
  },
  {
   "cell_type": "code",
   "execution_count": 7,
   "metadata": {},
   "outputs": [],
   "source": [
    "med_age_df = pd.DataFrame()"
   ]
  },
  {
   "cell_type": "markdown",
   "metadata": {},
   "source": [
    "# identifying mortality rate with deaths and cases"
   ]
  },
  {
   "cell_type": "markdown",
   "metadata": {},
   "source": [
    "Deaths for each country has been identified to be ZERO during the initial period of the pandemic. Hence, with even a single death in a country associates the relation as positive due to its rise. Hence to identify its corelation with death rate, we have only considered the countried and time period with initial deaths : more than 100"
   ]
  },
  {
   "cell_type": "code",
   "execution_count": 8,
   "metadata": {},
   "outputs": [
    {
     "data": {
      "text/html": [
       "<div>\n",
       "<style scoped>\n",
       "    .dataframe tbody tr th:only-of-type {\n",
       "        vertical-align: middle;\n",
       "    }\n",
       "\n",
       "    .dataframe tbody tr th {\n",
       "        vertical-align: top;\n",
       "    }\n",
       "\n",
       "    .dataframe thead th {\n",
       "        text-align: right;\n",
       "    }\n",
       "</style>\n",
       "<table border=\"1\" class=\"dataframe\">\n",
       "  <thead>\n",
       "    <tr style=\"text-align: right;\">\n",
       "      <th></th>\n",
       "      <th>country</th>\n",
       "      <th>date</th>\n",
       "      <th>total cases</th>\n",
       "      <th>total deaths</th>\n",
       "      <th>total deaths per million</th>\n",
       "      <th>population</th>\n",
       "      <th>population density</th>\n",
       "      <th>median age</th>\n",
       "      <th>aged 65 older</th>\n",
       "      <th>aged 70 older</th>\n",
       "      <th>diabetes prevalence</th>\n",
       "    </tr>\n",
       "  </thead>\n",
       "  <tbody>\n",
       "    <tr>\n",
       "      <td>184</td>\n",
       "      <td>afghanistan</td>\n",
       "      <td>5/9/20</td>\n",
       "      <td>3778</td>\n",
       "      <td>109</td>\n",
       "      <td>2.800</td>\n",
       "      <td>38928341</td>\n",
       "      <td>54.4</td>\n",
       "      <td>18.6</td>\n",
       "      <td>2.6</td>\n",
       "      <td>1.3</td>\n",
       "      <td>9.6</td>\n",
       "    </tr>\n",
       "    <tr>\n",
       "      <td>601</td>\n",
       "      <td>united arab emirates</td>\n",
       "      <td>5/9/20</td>\n",
       "      <td>16793</td>\n",
       "      <td>174</td>\n",
       "      <td>17.593</td>\n",
       "      <td>9890400</td>\n",
       "      <td>112.4</td>\n",
       "      <td>34.0</td>\n",
       "      <td>1.1</td>\n",
       "      <td>0.5</td>\n",
       "      <td>17.3</td>\n",
       "    </tr>\n",
       "    <tr>\n",
       "      <td>681</td>\n",
       "      <td>argentina</td>\n",
       "      <td>5/9/20</td>\n",
       "      <td>5598</td>\n",
       "      <td>293</td>\n",
       "      <td>6.483</td>\n",
       "      <td>45195777</td>\n",
       "      <td>16.2</td>\n",
       "      <td>31.9</td>\n",
       "      <td>11.2</td>\n",
       "      <td>7.4</td>\n",
       "      <td>5.5</td>\n",
       "    </tr>\n",
       "    <tr>\n",
       "      <td>1180</td>\n",
       "      <td>austria</td>\n",
       "      <td>5/9/20</td>\n",
       "      <td>15735</td>\n",
       "      <td>614</td>\n",
       "      <td>68.174</td>\n",
       "      <td>9006400</td>\n",
       "      <td>106.7</td>\n",
       "      <td>44.4</td>\n",
       "      <td>19.2</td>\n",
       "      <td>13.7</td>\n",
       "      <td>6.4</td>\n",
       "    </tr>\n",
       "    <tr>\n",
       "      <td>1522</td>\n",
       "      <td>belgium</td>\n",
       "      <td>5/9/20</td>\n",
       "      <td>52011</td>\n",
       "      <td>8521</td>\n",
       "      <td>735.227</td>\n",
       "      <td>11589616</td>\n",
       "      <td>375.6</td>\n",
       "      <td>41.8</td>\n",
       "      <td>18.6</td>\n",
       "      <td>12.8</td>\n",
       "      <td>4.3</td>\n",
       "    </tr>\n",
       "    <tr>\n",
       "      <td>...</td>\n",
       "      <td>...</td>\n",
       "      <td>...</td>\n",
       "      <td>...</td>\n",
       "      <td>...</td>\n",
       "      <td>...</td>\n",
       "      <td>...</td>\n",
       "      <td>...</td>\n",
       "      <td>...</td>\n",
       "      <td>...</td>\n",
       "      <td>...</td>\n",
       "      <td>...</td>\n",
       "    </tr>\n",
       "    <tr>\n",
       "      <td>17074</td>\n",
       "      <td>sweden</td>\n",
       "      <td>5/9/20</td>\n",
       "      <td>25265</td>\n",
       "      <td>3175</td>\n",
       "      <td>314.379</td>\n",
       "      <td>10099270</td>\n",
       "      <td>24.7</td>\n",
       "      <td>41.0</td>\n",
       "      <td>20.0</td>\n",
       "      <td>13.4</td>\n",
       "      <td>4.8</td>\n",
       "    </tr>\n",
       "    <tr>\n",
       "      <td>18000</td>\n",
       "      <td>turkey</td>\n",
       "      <td>5/9/20</td>\n",
       "      <td>135569</td>\n",
       "      <td>3689</td>\n",
       "      <td>43.740</td>\n",
       "      <td>84339067</td>\n",
       "      <td>104.9</td>\n",
       "      <td>31.6</td>\n",
       "      <td>8.2</td>\n",
       "      <td>5.1</td>\n",
       "      <td>12.1</td>\n",
       "    </tr>\n",
       "    <tr>\n",
       "      <td>18354</td>\n",
       "      <td>ukraine</td>\n",
       "      <td>5/9/20</td>\n",
       "      <td>14195</td>\n",
       "      <td>361</td>\n",
       "      <td>8.254</td>\n",
       "      <td>43733759</td>\n",
       "      <td>77.4</td>\n",
       "      <td>41.4</td>\n",
       "      <td>16.5</td>\n",
       "      <td>11.1</td>\n",
       "      <td>7.1</td>\n",
       "    </tr>\n",
       "    <tr>\n",
       "      <td>18573</td>\n",
       "      <td>united states</td>\n",
       "      <td>5/9/20</td>\n",
       "      <td>1283929</td>\n",
       "      <td>77180</td>\n",
       "      <td>233.170</td>\n",
       "      <td>331002647</td>\n",
       "      <td>35.6</td>\n",
       "      <td>38.3</td>\n",
       "      <td>15.4</td>\n",
       "      <td>9.7</td>\n",
       "      <td>10.8</td>\n",
       "    </tr>\n",
       "    <tr>\n",
       "      <td>19346</td>\n",
       "      <td>south africa</td>\n",
       "      <td>5/9/20</td>\n",
       "      <td>8895</td>\n",
       "      <td>178</td>\n",
       "      <td>3.001</td>\n",
       "      <td>59308690</td>\n",
       "      <td>46.8</td>\n",
       "      <td>27.3</td>\n",
       "      <td>5.3</td>\n",
       "      <td>3.1</td>\n",
       "      <td>5.5</td>\n",
       "    </tr>\n",
       "  </tbody>\n",
       "</table>\n",
       "<p>61 rows × 11 columns</p>\n",
       "</div>"
      ],
      "text/plain": [
       "                    country    date  total cases  total deaths  \\\n",
       "184             afghanistan  5/9/20         3778           109   \n",
       "601    united arab emirates  5/9/20        16793           174   \n",
       "681               argentina  5/9/20         5598           293   \n",
       "1180                austria  5/9/20        15735           614   \n",
       "1522                belgium  5/9/20        52011          8521   \n",
       "...                     ...     ...          ...           ...   \n",
       "17074                sweden  5/9/20        25265          3175   \n",
       "18000                turkey  5/9/20       135569          3689   \n",
       "18354               ukraine  5/9/20        14195           361   \n",
       "18573         united states  5/9/20      1283929         77180   \n",
       "19346          south africa  5/9/20         8895           178   \n",
       "\n",
       "       total deaths per million  population  population density  median age  \\\n",
       "184                       2.800    38928341                54.4        18.6   \n",
       "601                      17.593     9890400               112.4        34.0   \n",
       "681                       6.483    45195777                16.2        31.9   \n",
       "1180                     68.174     9006400               106.7        44.4   \n",
       "1522                    735.227    11589616               375.6        41.8   \n",
       "...                         ...         ...                 ...         ...   \n",
       "17074                   314.379    10099270                24.7        41.0   \n",
       "18000                    43.740    84339067               104.9        31.6   \n",
       "18354                     8.254    43733759                77.4        41.4   \n",
       "18573                   233.170   331002647                35.6        38.3   \n",
       "19346                     3.001    59308690                46.8        27.3   \n",
       "\n",
       "       aged 65 older  aged 70 older  diabetes prevalence  \n",
       "184              2.6            1.3                  9.6  \n",
       "601              1.1            0.5                 17.3  \n",
       "681             11.2            7.4                  5.5  \n",
       "1180            19.2           13.7                  6.4  \n",
       "1522            18.6           12.8                  4.3  \n",
       "...              ...            ...                  ...  \n",
       "17074           20.0           13.4                  4.8  \n",
       "18000            8.2            5.1                 12.1  \n",
       "18354           16.5           11.1                  7.1  \n",
       "18573           15.4            9.7                 10.8  \n",
       "19346            5.3            3.1                  5.5  \n",
       "\n",
       "[61 rows x 11 columns]"
      ]
     },
     "execution_count": 8,
     "metadata": {},
     "output_type": "execute_result"
    }
   ],
   "source": [
    "med_age_df = prov_df1[prov_df1['date'] == max_date]\n",
    "med_age_df = med_age_df[med_age_df['country'] != 'world']\n",
    "med_age_df = med_age_df[med_age_df['total deaths'] > 100]\n",
    "med_age_df"
   ]
  },
  {
   "cell_type": "markdown",
   "metadata": {},
   "source": [
    "CORRELATION OF DEATHS AND ACTIVE CASES"
   ]
  },
  {
   "cell_type": "markdown",
   "metadata": {},
   "source": [
    "# using pearson correlation model "
   ]
  },
  {
   "cell_type": "code",
   "execution_count": 9,
   "metadata": {},
   "outputs": [
    {
     "data": {
      "text/plain": [
       "0.9465165168521094"
      ]
     },
     "execution_count": 9,
     "metadata": {},
     "output_type": "execute_result"
    }
   ],
   "source": [
    "x = wrldmtr_df['total cases']\n",
    "y = wrldmtr_df['total deaths']\n",
    "corr, _ = pearsonr(y, x)\n",
    "corr"
   ]
  },
  {
   "cell_type": "code",
   "execution_count": 10,
   "metadata": {},
   "outputs": [
    {
     "data": {
      "text/html": [
       "<div>\n",
       "<style scoped>\n",
       "    .dataframe tbody tr th:only-of-type {\n",
       "        vertical-align: middle;\n",
       "    }\n",
       "\n",
       "    .dataframe tbody tr th {\n",
       "        vertical-align: top;\n",
       "    }\n",
       "\n",
       "    .dataframe thead th {\n",
       "        text-align: right;\n",
       "    }\n",
       "</style>\n",
       "<table border=\"1\" class=\"dataframe\">\n",
       "  <thead>\n",
       "    <tr style=\"text-align: right;\">\n",
       "      <th></th>\n",
       "      <th>country</th>\n",
       "      <th>date</th>\n",
       "      <th>total cases</th>\n",
       "      <th>total deaths</th>\n",
       "      <th>total deaths per million</th>\n",
       "      <th>population</th>\n",
       "      <th>population density</th>\n",
       "      <th>median age</th>\n",
       "      <th>aged 65 older</th>\n",
       "      <th>aged 70 older</th>\n",
       "      <th>diabetes prevalence</th>\n",
       "      <th>mortality rate</th>\n",
       "    </tr>\n",
       "  </thead>\n",
       "  <tbody>\n",
       "    <tr>\n",
       "      <td>184</td>\n",
       "      <td>afghanistan</td>\n",
       "      <td>5/9/20</td>\n",
       "      <td>3778</td>\n",
       "      <td>109</td>\n",
       "      <td>2.800</td>\n",
       "      <td>38928341</td>\n",
       "      <td>54.4</td>\n",
       "      <td>18.6</td>\n",
       "      <td>2.6</td>\n",
       "      <td>1.3</td>\n",
       "      <td>9.6</td>\n",
       "      <td>2.885124</td>\n",
       "    </tr>\n",
       "    <tr>\n",
       "      <td>601</td>\n",
       "      <td>united arab emirates</td>\n",
       "      <td>5/9/20</td>\n",
       "      <td>16793</td>\n",
       "      <td>174</td>\n",
       "      <td>17.593</td>\n",
       "      <td>9890400</td>\n",
       "      <td>112.4</td>\n",
       "      <td>34.0</td>\n",
       "      <td>1.1</td>\n",
       "      <td>0.5</td>\n",
       "      <td>17.3</td>\n",
       "      <td>1.036146</td>\n",
       "    </tr>\n",
       "    <tr>\n",
       "      <td>681</td>\n",
       "      <td>argentina</td>\n",
       "      <td>5/9/20</td>\n",
       "      <td>5598</td>\n",
       "      <td>293</td>\n",
       "      <td>6.483</td>\n",
       "      <td>45195777</td>\n",
       "      <td>16.2</td>\n",
       "      <td>31.9</td>\n",
       "      <td>11.2</td>\n",
       "      <td>7.4</td>\n",
       "      <td>5.5</td>\n",
       "      <td>5.234012</td>\n",
       "    </tr>\n",
       "    <tr>\n",
       "      <td>1180</td>\n",
       "      <td>austria</td>\n",
       "      <td>5/9/20</td>\n",
       "      <td>15735</td>\n",
       "      <td>614</td>\n",
       "      <td>68.174</td>\n",
       "      <td>9006400</td>\n",
       "      <td>106.7</td>\n",
       "      <td>44.4</td>\n",
       "      <td>19.2</td>\n",
       "      <td>13.7</td>\n",
       "      <td>6.4</td>\n",
       "      <td>3.902129</td>\n",
       "    </tr>\n",
       "    <tr>\n",
       "      <td>1522</td>\n",
       "      <td>belgium</td>\n",
       "      <td>5/9/20</td>\n",
       "      <td>52011</td>\n",
       "      <td>8521</td>\n",
       "      <td>735.227</td>\n",
       "      <td>11589616</td>\n",
       "      <td>375.6</td>\n",
       "      <td>41.8</td>\n",
       "      <td>18.6</td>\n",
       "      <td>12.8</td>\n",
       "      <td>4.3</td>\n",
       "      <td>16.383073</td>\n",
       "    </tr>\n",
       "    <tr>\n",
       "      <td>...</td>\n",
       "      <td>...</td>\n",
       "      <td>...</td>\n",
       "      <td>...</td>\n",
       "      <td>...</td>\n",
       "      <td>...</td>\n",
       "      <td>...</td>\n",
       "      <td>...</td>\n",
       "      <td>...</td>\n",
       "      <td>...</td>\n",
       "      <td>...</td>\n",
       "      <td>...</td>\n",
       "      <td>...</td>\n",
       "    </tr>\n",
       "    <tr>\n",
       "      <td>17074</td>\n",
       "      <td>sweden</td>\n",
       "      <td>5/9/20</td>\n",
       "      <td>25265</td>\n",
       "      <td>3175</td>\n",
       "      <td>314.379</td>\n",
       "      <td>10099270</td>\n",
       "      <td>24.7</td>\n",
       "      <td>41.0</td>\n",
       "      <td>20.0</td>\n",
       "      <td>13.4</td>\n",
       "      <td>4.8</td>\n",
       "      <td>12.566792</td>\n",
       "    </tr>\n",
       "    <tr>\n",
       "      <td>18000</td>\n",
       "      <td>turkey</td>\n",
       "      <td>5/9/20</td>\n",
       "      <td>135569</td>\n",
       "      <td>3689</td>\n",
       "      <td>43.740</td>\n",
       "      <td>84339067</td>\n",
       "      <td>104.9</td>\n",
       "      <td>31.6</td>\n",
       "      <td>8.2</td>\n",
       "      <td>5.1</td>\n",
       "      <td>12.1</td>\n",
       "      <td>2.721124</td>\n",
       "    </tr>\n",
       "    <tr>\n",
       "      <td>18354</td>\n",
       "      <td>ukraine</td>\n",
       "      <td>5/9/20</td>\n",
       "      <td>14195</td>\n",
       "      <td>361</td>\n",
       "      <td>8.254</td>\n",
       "      <td>43733759</td>\n",
       "      <td>77.4</td>\n",
       "      <td>41.4</td>\n",
       "      <td>16.5</td>\n",
       "      <td>11.1</td>\n",
       "      <td>7.1</td>\n",
       "      <td>2.543149</td>\n",
       "    </tr>\n",
       "    <tr>\n",
       "      <td>18573</td>\n",
       "      <td>united states</td>\n",
       "      <td>5/9/20</td>\n",
       "      <td>1283929</td>\n",
       "      <td>77180</td>\n",
       "      <td>233.170</td>\n",
       "      <td>331002647</td>\n",
       "      <td>35.6</td>\n",
       "      <td>38.3</td>\n",
       "      <td>15.4</td>\n",
       "      <td>9.7</td>\n",
       "      <td>10.8</td>\n",
       "      <td>6.011236</td>\n",
       "    </tr>\n",
       "    <tr>\n",
       "      <td>19346</td>\n",
       "      <td>south africa</td>\n",
       "      <td>5/9/20</td>\n",
       "      <td>8895</td>\n",
       "      <td>178</td>\n",
       "      <td>3.001</td>\n",
       "      <td>59308690</td>\n",
       "      <td>46.8</td>\n",
       "      <td>27.3</td>\n",
       "      <td>5.3</td>\n",
       "      <td>3.1</td>\n",
       "      <td>5.5</td>\n",
       "      <td>2.001124</td>\n",
       "    </tr>\n",
       "  </tbody>\n",
       "</table>\n",
       "<p>61 rows × 12 columns</p>\n",
       "</div>"
      ],
      "text/plain": [
       "                    country    date  total cases  total deaths  \\\n",
       "184             afghanistan  5/9/20         3778           109   \n",
       "601    united arab emirates  5/9/20        16793           174   \n",
       "681               argentina  5/9/20         5598           293   \n",
       "1180                austria  5/9/20        15735           614   \n",
       "1522                belgium  5/9/20        52011          8521   \n",
       "...                     ...     ...          ...           ...   \n",
       "17074                sweden  5/9/20        25265          3175   \n",
       "18000                turkey  5/9/20       135569          3689   \n",
       "18354               ukraine  5/9/20        14195           361   \n",
       "18573         united states  5/9/20      1283929         77180   \n",
       "19346          south africa  5/9/20         8895           178   \n",
       "\n",
       "       total deaths per million  population  population density  median age  \\\n",
       "184                       2.800    38928341                54.4        18.6   \n",
       "601                      17.593     9890400               112.4        34.0   \n",
       "681                       6.483    45195777                16.2        31.9   \n",
       "1180                     68.174     9006400               106.7        44.4   \n",
       "1522                    735.227    11589616               375.6        41.8   \n",
       "...                         ...         ...                 ...         ...   \n",
       "17074                   314.379    10099270                24.7        41.0   \n",
       "18000                    43.740    84339067               104.9        31.6   \n",
       "18354                     8.254    43733759                77.4        41.4   \n",
       "18573                   233.170   331002647                35.6        38.3   \n",
       "19346                     3.001    59308690                46.8        27.3   \n",
       "\n",
       "       aged 65 older  aged 70 older  diabetes prevalence  mortality rate  \n",
       "184              2.6            1.3                  9.6        2.885124  \n",
       "601              1.1            0.5                 17.3        1.036146  \n",
       "681             11.2            7.4                  5.5        5.234012  \n",
       "1180            19.2           13.7                  6.4        3.902129  \n",
       "1522            18.6           12.8                  4.3       16.383073  \n",
       "...              ...            ...                  ...             ...  \n",
       "17074           20.0           13.4                  4.8       12.566792  \n",
       "18000            8.2            5.1                 12.1        2.721124  \n",
       "18354           16.5           11.1                  7.1        2.543149  \n",
       "18573           15.4            9.7                 10.8        6.011236  \n",
       "19346            5.3            3.1                  5.5        2.001124  \n",
       "\n",
       "[61 rows x 12 columns]"
      ]
     },
     "execution_count": 10,
     "metadata": {},
     "output_type": "execute_result"
    }
   ],
   "source": [
    "med_age_df['mortality rate'] = med_age_df['total deaths'] / med_age_df['total cases']\n",
    "med_age_df['mortality rate'] = med_age_df['mortality rate'] *100\n",
    "med_age_df"
   ]
  },
  {
   "cell_type": "markdown",
   "metadata": {},
   "source": [
    "pearson correlation of population density with mortality rate"
   ]
  },
  {
   "cell_type": "code",
   "execution_count": 11,
   "metadata": {},
   "outputs": [
    {
     "data": {
      "text/plain": [
       "0.01856508544301832"
      ]
     },
     "execution_count": 11,
     "metadata": {},
     "output_type": "execute_result"
    }
   ],
   "source": [
    "x = med_age_df['mortality rate']\n",
    "y = med_age_df['population density']\n",
    "corr, _ = pearsonr(x, y)\n",
    "corr"
   ]
  },
  {
   "cell_type": "code",
   "execution_count": 12,
   "metadata": {},
   "outputs": [
    {
     "data": {
      "text/plain": [
       "<matplotlib.collections.PathCollection at 0x7f8411b00cd0>"
      ]
     },
     "execution_count": 12,
     "metadata": {},
     "output_type": "execute_result"
    },
    {
     "data": {
      "image/png": "[encoded data removed]",
      "text/plain": [
       "<Figure size 432x288 with 1 Axes>"
      ]
     },
     "metadata": {
      "needs_background": "light"
     },
     "output_type": "display_data"
    }
   ],
   "source": [
    "plt.scatter(x, y, marker='o')"
   ]
  },
  {
   "cell_type": "markdown",
   "metadata": {},
   "source": [
    "pearson correlation of mortality rate with median age"
   ]
  },
  {
   "cell_type": "code",
   "execution_count": 13,
   "metadata": {},
   "outputs": [
    {
     "data": {
      "text/plain": [
       "0.31144318864382603"
      ]
     },
     "execution_count": 13,
     "metadata": {},
     "output_type": "execute_result"
    }
   ],
   "source": [
    "X = med_age_df['mortality rate']\n",
    "y = med_age_df['median age']\n",
    "corr, _ = pearsonr(X, y)\n",
    "corr"
   ]
  },
  {
   "cell_type": "markdown",
   "metadata": {},
   "source": [
    "We have also provided models with crude mortality rate to identify the behaviour of outcome\n",
    "\n",
    "                            Total deaths\n",
    "Crude Mortality Rate                 = ----------------------------------------------------\n",
    "\n",
    "                    total deaths + total recovered\n",
    "                    \n",
    "-----------------------------------------------------"
   ]
  },
  {
   "cell_type": "code",
   "execution_count": 14,
   "metadata": {},
   "outputs": [
    {
     "data": {
      "text/plain": [
       "-0.03137747335576445"
      ]
     },
     "execution_count": 14,
     "metadata": {},
     "output_type": "execute_result"
    }
   ],
   "source": [
    "X = wrldmtr_df['crude mortality rate']\n",
    "y = wrldmtr_df['median age']\n",
    "corr, _ = pearsonr(X, y)\n",
    "corr"
   ]
  },
  {
   "cell_type": "code",
   "execution_count": 15,
   "metadata": {},
   "outputs": [
    {
     "data": {
      "text/plain": [
       "<matplotlib.collections.PathCollection at 0x7f8411b00b50>"
      ]
     },
     "execution_count": 15,
     "metadata": {},
     "output_type": "execute_result"
    },
    {
     "data": {
      "image/png": "[encoded data removed]",
      "text/plain": [
       "<Figure size 432x288 with 1 Axes>"
      ]
     },
     "metadata": {
      "needs_background": "light"
     },
     "output_type": "display_data"
    }
   ],
   "source": [
    "plt.scatter(X, y, marker='o')"
   ]
  },
  {
   "cell_type": "markdown",
   "metadata": {},
   "source": [
    "Time series plot of the COVID-19 deaths across countries"
   ]
  },
  {
   "cell_type": "code",
   "execution_count": 16,
   "metadata": {},
   "outputs": [],
   "source": [
    "country_df = prov_df1[prov_df1['country'] == 'australia']\n",
    "timeseries_df = pd.DataFrame()\n",
    "timeseries_df['date'] = country_df['date']\n",
    "timeseries_df['australia_deaths'] = country_df['total deaths']\n"
   ]
  },
  {
   "cell_type": "markdown",
   "metadata": {},
   "source": [
    "AUSTRALIA"
   ]
  },
  {
   "cell_type": "code",
   "execution_count": 17,
   "metadata": {},
   "outputs": [
    {
     "data": {
      "image/png": "[encoded data removed]",
      "text/plain": [
       "<Figure size 432x288 with 1 Axes>"
      ]
     },
     "metadata": {
      "needs_background": "light"
     },
     "output_type": "display_data"
    }
   ],
   "source": [
    "timeseries_df.plot()\n",
    "plt.show()"
   ]
  },
  {
   "cell_type": "markdown",
   "metadata": {},
   "source": [
    "TIMESERIES PLOT OF INDIA"
   ]
  },
  {
   "cell_type": "code",
   "execution_count": 18,
   "metadata": {},
   "outputs": [
    {
     "data": {
      "image/png": "[encoded data removed]",
      "text/plain": [
       "<Figure size 432x288 with 1 Axes>"
      ]
     },
     "metadata": {
      "needs_background": "light"
     },
     "output_type": "display_data"
    }
   ],
   "source": [
    "country_df = prov_df1[prov_df1['country'] == 'india']\n",
    "timeseries_df = pd.DataFrame()\n",
    "timeseries_df['date'] = country_df['date']\n",
    "timeseries_df['india_deaths'] = country_df['total deaths']\n",
    "timeseries_df.plot()\n",
    "plt.show()"
   ]
  },
  {
   "cell_type": "markdown",
   "metadata": {},
   "source": [
    "UNITED STATES"
   ]
  },
  {
   "cell_type": "code",
   "execution_count": 19,
   "metadata": {},
   "outputs": [
    {
     "data": {
      "image/png": "[encoded data removed]",
      "text/plain": [
       "<Figure size 432x288 with 1 Axes>"
      ]
     },
     "metadata": {
      "needs_background": "light"
     },
     "output_type": "display_data"
    }
   ],
   "source": [
    "country_df = prov_df1[prov_df1['country'] == 'united states']\n",
    "timeseries_df = pd.DataFrame()\n",
    "timeseries_df['date'] = country_df['date']\n",
    "timeseries_df['us_deaths'] = country_df['total deaths']\n",
    "timeseries_df.plot()\n",
    "plt.show()"
   ]
  },
  {
   "cell_type": "code",
   "execution_count": 20,
   "metadata": {},
   "outputs": [
    {
     "data": {
      "text/html": [
       "<div>\n",
       "<style scoped>\n",
       "    .dataframe tbody tr th:only-of-type {\n",
       "        vertical-align: middle;\n",
       "    }\n",
       "\n",
       "    .dataframe tbody tr th {\n",
       "        vertical-align: top;\n",
       "    }\n",
       "\n",
       "    .dataframe thead th {\n",
       "        text-align: right;\n",
       "    }\n",
       "</style>\n",
       "<table border=\"1\" class=\"dataframe\">\n",
       "  <thead>\n",
       "    <tr style=\"text-align: right;\">\n",
       "      <th></th>\n",
       "      <th>country</th>\n",
       "      <th>lat</th>\n",
       "      <th>long</th>\n",
       "      <th>date</th>\n",
       "      <th>cases</th>\n",
       "      <th>fatalities</th>\n",
       "      <th>capital</th>\n",
       "      <th>humidity</th>\n",
       "      <th>sunHour</th>\n",
       "      <th>tempC</th>\n",
       "      <th>windspeedKmph</th>\n",
       "      <th>death_rate</th>\n",
       "    </tr>\n",
       "  </thead>\n",
       "  <tbody>\n",
       "    <tr>\n",
       "      <td>0</td>\n",
       "      <td>afghanistan</td>\n",
       "      <td>33.0000</td>\n",
       "      <td>65.0000</td>\n",
       "      <td>1/22/2020</td>\n",
       "      <td>0</td>\n",
       "      <td>0</td>\n",
       "      <td>Kabul</td>\n",
       "      <td>65.0</td>\n",
       "      <td>8.7</td>\n",
       "      <td>-1.0</td>\n",
       "      <td>8.0</td>\n",
       "      <td>0.0</td>\n",
       "    </tr>\n",
       "    <tr>\n",
       "      <td>1</td>\n",
       "      <td>afghanistan</td>\n",
       "      <td>33.0000</td>\n",
       "      <td>65.0000</td>\n",
       "      <td>1/23/2020</td>\n",
       "      <td>0</td>\n",
       "      <td>0</td>\n",
       "      <td>Kabul</td>\n",
       "      <td>59.0</td>\n",
       "      <td>8.7</td>\n",
       "      <td>-3.0</td>\n",
       "      <td>8.0</td>\n",
       "      <td>0.0</td>\n",
       "    </tr>\n",
       "    <tr>\n",
       "      <td>2</td>\n",
       "      <td>afghanistan</td>\n",
       "      <td>33.0000</td>\n",
       "      <td>65.0000</td>\n",
       "      <td>1/24/2020</td>\n",
       "      <td>0</td>\n",
       "      <td>0</td>\n",
       "      <td>Kabul</td>\n",
       "      <td>71.0</td>\n",
       "      <td>7.1</td>\n",
       "      <td>0.0</td>\n",
       "      <td>7.0</td>\n",
       "      <td>0.0</td>\n",
       "    </tr>\n",
       "    <tr>\n",
       "      <td>3</td>\n",
       "      <td>afghanistan</td>\n",
       "      <td>33.0000</td>\n",
       "      <td>65.0000</td>\n",
       "      <td>1/25/2020</td>\n",
       "      <td>0</td>\n",
       "      <td>0</td>\n",
       "      <td>Kabul</td>\n",
       "      <td>79.0</td>\n",
       "      <td>8.7</td>\n",
       "      <td>0.0</td>\n",
       "      <td>7.0</td>\n",
       "      <td>0.0</td>\n",
       "    </tr>\n",
       "    <tr>\n",
       "      <td>4</td>\n",
       "      <td>afghanistan</td>\n",
       "      <td>33.0000</td>\n",
       "      <td>65.0000</td>\n",
       "      <td>1/26/2020</td>\n",
       "      <td>0</td>\n",
       "      <td>0</td>\n",
       "      <td>Kabul</td>\n",
       "      <td>64.0</td>\n",
       "      <td>8.7</td>\n",
       "      <td>-1.0</td>\n",
       "      <td>8.0</td>\n",
       "      <td>0.0</td>\n",
       "    </tr>\n",
       "    <tr>\n",
       "      <td>...</td>\n",
       "      <td>...</td>\n",
       "      <td>...</td>\n",
       "      <td>...</td>\n",
       "      <td>...</td>\n",
       "      <td>...</td>\n",
       "      <td>...</td>\n",
       "      <td>...</td>\n",
       "      <td>...</td>\n",
       "      <td>...</td>\n",
       "      <td>...</td>\n",
       "      <td>...</td>\n",
       "      <td>...</td>\n",
       "    </tr>\n",
       "    <tr>\n",
       "      <td>16672</td>\n",
       "      <td>zambia</td>\n",
       "      <td>-15.4167</td>\n",
       "      <td>28.2833</td>\n",
       "      <td>3/17/2020</td>\n",
       "      <td>0</td>\n",
       "      <td>0</td>\n",
       "      <td>Lusaka</td>\n",
       "      <td>86.0</td>\n",
       "      <td>6.0</td>\n",
       "      <td>24.0</td>\n",
       "      <td>12.0</td>\n",
       "      <td>0.0</td>\n",
       "    </tr>\n",
       "    <tr>\n",
       "      <td>16673</td>\n",
       "      <td>zambia</td>\n",
       "      <td>-15.4167</td>\n",
       "      <td>28.2833</td>\n",
       "      <td>3/18/2020</td>\n",
       "      <td>2</td>\n",
       "      <td>0</td>\n",
       "      <td>Lusaka</td>\n",
       "      <td>84.0</td>\n",
       "      <td>8.8</td>\n",
       "      <td>25.0</td>\n",
       "      <td>12.0</td>\n",
       "      <td>0.0</td>\n",
       "    </tr>\n",
       "    <tr>\n",
       "      <td>16674</td>\n",
       "      <td>zambia</td>\n",
       "      <td>-15.4167</td>\n",
       "      <td>28.2833</td>\n",
       "      <td>3/19/2020</td>\n",
       "      <td>2</td>\n",
       "      <td>0</td>\n",
       "      <td>Lusaka</td>\n",
       "      <td>86.0</td>\n",
       "      <td>8.8</td>\n",
       "      <td>25.0</td>\n",
       "      <td>10.0</td>\n",
       "      <td>0.0</td>\n",
       "    </tr>\n",
       "    <tr>\n",
       "      <td>16675</td>\n",
       "      <td>zambia</td>\n",
       "      <td>-15.4167</td>\n",
       "      <td>28.2833</td>\n",
       "      <td>3/20/2020</td>\n",
       "      <td>2</td>\n",
       "      <td>0</td>\n",
       "      <td>Lusaka</td>\n",
       "      <td>81.0</td>\n",
       "      <td>11.6</td>\n",
       "      <td>25.0</td>\n",
       "      <td>11.0</td>\n",
       "      <td>0.0</td>\n",
       "    </tr>\n",
       "    <tr>\n",
       "      <td>16676</td>\n",
       "      <td>zambia</td>\n",
       "      <td>-15.4167</td>\n",
       "      <td>28.2833</td>\n",
       "      <td>3/21/2020</td>\n",
       "      <td>2</td>\n",
       "      <td>0</td>\n",
       "      <td>Lusaka</td>\n",
       "      <td>85.0</td>\n",
       "      <td>7.4</td>\n",
       "      <td>21.0</td>\n",
       "      <td>9.0</td>\n",
       "      <td>0.0</td>\n",
       "    </tr>\n",
       "  </tbody>\n",
       "</table>\n",
       "<p>16677 rows × 12 columns</p>\n",
       "</div>"
      ],
      "text/plain": [
       "           country      lat     long       date  cases  fatalities capital  \\\n",
       "0      afghanistan  33.0000  65.0000  1/22/2020      0           0   Kabul   \n",
       "1      afghanistan  33.0000  65.0000  1/23/2020      0           0   Kabul   \n",
       "2      afghanistan  33.0000  65.0000  1/24/2020      0           0   Kabul   \n",
       "3      afghanistan  33.0000  65.0000  1/25/2020      0           0   Kabul   \n",
       "4      afghanistan  33.0000  65.0000  1/26/2020      0           0   Kabul   \n",
       "...            ...      ...      ...        ...    ...         ...     ...   \n",
       "16672       zambia -15.4167  28.2833  3/17/2020      0           0  Lusaka   \n",
       "16673       zambia -15.4167  28.2833  3/18/2020      2           0  Lusaka   \n",
       "16674       zambia -15.4167  28.2833  3/19/2020      2           0  Lusaka   \n",
       "16675       zambia -15.4167  28.2833  3/20/2020      2           0  Lusaka   \n",
       "16676       zambia -15.4167  28.2833  3/21/2020      2           0  Lusaka   \n",
       "\n",
       "       humidity  sunHour  tempC  windspeedKmph  death_rate  \n",
       "0          65.0      8.7   -1.0            8.0         0.0  \n",
       "1          59.0      8.7   -3.0            8.0         0.0  \n",
       "2          71.0      7.1    0.0            7.0         0.0  \n",
       "3          79.0      8.7    0.0            7.0         0.0  \n",
       "4          64.0      8.7   -1.0            8.0         0.0  \n",
       "...         ...      ...    ...            ...         ...  \n",
       "16672      86.0      6.0   24.0           12.0         0.0  \n",
       "16673      84.0      8.8   25.0           12.0         0.0  \n",
       "16674      86.0      8.8   25.0           10.0         0.0  \n",
       "16675      81.0     11.6   25.0           11.0         0.0  \n",
       "16676      85.0      7.4   21.0            9.0         0.0  \n",
       "\n",
       "[16677 rows x 12 columns]"
      ]
     },
     "execution_count": 20,
     "metadata": {},
     "output_type": "execute_result"
    }
   ],
   "source": [
    "prov_df_temp= pd.read_excel('temperature_provisional_clean.xlsx')\n",
    "prov_df_temp"
   ]
  },
  {
   "cell_type": "code",
   "execution_count": 21,
   "metadata": {},
   "outputs": [],
   "source": [
    "coun_wise = prov_df_temp[prov_df_temp['country']=='china']\n",
    "mulr_afghan = pd.DataFrame()\n",
    "mulr_afghan['death_rate'] = (coun_wise['fatalities']/coun_wise['cases']) * 100\n",
    "mulr_afghan['death_rate'] = mulr_afghan['death_rate'].fillna('0')\n",
    "mulr_afghan['tempC'] = coun_wise['tempC']\n",
    "mulr_afghan['humidity'] = coun_wise['humidity']\n"
   ]
  },
  {
   "cell_type": "markdown",
   "metadata": {},
   "source": [
    "PEARSON CORRELATION OF TEMPERATURE WITH humidity"
   ]
  },
  {
   "cell_type": "code",
   "execution_count": 22,
   "metadata": {},
   "outputs": [],
   "source": [
    "y = mulr_afghan['tempC']\n",
    "X = mulr_afghan['humidity']"
   ]
  },
  {
   "cell_type": "code",
   "execution_count": 23,
   "metadata": {},
   "outputs": [
    {
     "data": {
      "text/plain": [
       "-0.4991296131375892"
      ]
     },
     "execution_count": 23,
     "metadata": {},
     "output_type": "execute_result"
    }
   ],
   "source": [
    "corr, _ = pearsonr(X, y)\n",
    "corr"
   ]
  },
  {
   "cell_type": "markdown",
   "metadata": {},
   "source": [
    "PEARSON CORRELATION OF TEMPERATURE WITH DEATH_RATE ACROSS ALL COUNTRIES"
   ]
  },
  {
   "cell_type": "code",
   "execution_count": 24,
   "metadata": {},
   "outputs": [],
   "source": [
    "y = mulr_afghan['tempC']\n",
    "X = mulr_afghan['death_rate']"
   ]
  },
  {
   "cell_type": "code",
   "execution_count": 25,
   "metadata": {},
   "outputs": [
    {
     "data": {
      "text/plain": [
       "0.0530984805728683"
      ]
     },
     "execution_count": 25,
     "metadata": {},
     "output_type": "execute_result"
    }
   ],
   "source": [
    "corr, _ = pearsonr(X, y)\n",
    "corr"
   ]
  },
  {
   "cell_type": "markdown",
   "metadata": {},
   "source": [
    "INDIA"
   ]
  },
  {
   "cell_type": "code",
   "execution_count": 26,
   "metadata": {},
   "outputs": [],
   "source": [
    "coun_wise = prov_df_temp[prov_df_temp['country']=='india']\n",
    "mulr_afghan = pd.DataFrame()\n",
    "mulr_afghan['death_rate'] = (coun_wise['fatalities']/coun_wise['cases']) * 100\n",
    "mulr_afghan['death_rate'] = mulr_afghan['death_rate'].fillna('0')\n",
    "mulr_afghan['tempC'] = coun_wise['tempC']\n",
    "mulr_afghan['humidity'] = coun_wise['humidity']"
   ]
  },
  {
   "cell_type": "code",
   "execution_count": 27,
   "metadata": {},
   "outputs": [
    {
     "data": {
      "text/plain": [
       "0.4444100854751278"
      ]
     },
     "execution_count": 27,
     "metadata": {},
     "output_type": "execute_result"
    }
   ],
   "source": [
    "y = mulr_afghan['tempC'].astype(float)\n",
    "X = mulr_afghan['death_rate'].astype(float)\n",
    "corr, _ = pearsonr(X, y)\n",
    "corr"
   ]
  },
  {
   "cell_type": "markdown",
   "metadata": {},
   "source": [
    "AUSTRALIA"
   ]
  },
  {
   "cell_type": "code",
   "execution_count": 28,
   "metadata": {},
   "outputs": [
    {
     "data": {
      "text/plain": [
       "-0.1124443787611141"
      ]
     },
     "execution_count": 28,
     "metadata": {},
     "output_type": "execute_result"
    }
   ],
   "source": [
    "coun_wise = prov_df_temp[prov_df_temp['country']=='australia']\n",
    "mulr_afghan = pd.DataFrame()\n",
    "mulr_afghan['death_rate'] = (coun_wise['fatalities']/coun_wise['cases']) * 100\n",
    "mulr_afghan['death_rate'] = mulr_afghan['death_rate'].fillna('0')\n",
    "mulr_afghan['tempC'] = coun_wise['tempC']\n",
    "mulr_afghan['humidity'] = coun_wise['humidity']\n",
    "y = mulr_afghan['tempC'].astype(float)\n",
    "X = mulr_afghan['death_rate'].astype(float)\n",
    "corr, _ = pearsonr(X, y)\n",
    "corr"
   ]
  },
  {
   "cell_type": "markdown",
   "metadata": {},
   "source": [
    "ISREAL"
   ]
  },
  {
   "cell_type": "code",
   "execution_count": 29,
   "metadata": {},
   "outputs": [
    {
     "data": {
      "text/plain": [
       "-0.11091931359528753"
      ]
     },
     "execution_count": 29,
     "metadata": {},
     "output_type": "execute_result"
    }
   ],
   "source": [
    "coun_wise = prov_df_temp[prov_df_temp['country']=='israel']\n",
    "mulr_afghan = pd.DataFrame()\n",
    "mulr_afghan['death_rate'] = (coun_wise['fatalities']/coun_wise['cases']) * 100\n",
    "mulr_afghan['death_rate'] = mulr_afghan['death_rate'].fillna('0')\n",
    "mulr_afghan['tempC'] = coun_wise['tempC']\n",
    "mulr_afghan['humidity'] = coun_wise['humidity']\n",
    "y = mulr_afghan['tempC'].astype(float)\n",
    "X = mulr_afghan['death_rate'].astype(float)\n",
    "corr, _ = pearsonr(X, y)\n",
    "corr"
   ]
  },
  {
   "cell_type": "markdown",
   "metadata": {},
   "source": [
    "FRANCE"
   ]
  },
  {
   "cell_type": "code",
   "execution_count": 30,
   "metadata": {},
   "outputs": [
    {
     "data": {
      "text/plain": [
       "0.035854808196399406"
      ]
     },
     "execution_count": 30,
     "metadata": {},
     "output_type": "execute_result"
    }
   ],
   "source": [
    "coun_wise = prov_df_temp[prov_df_temp['country']=='france']\n",
    "mulr_afghan = pd.DataFrame()\n",
    "mulr_afghan['death_rate'] = (coun_wise['fatalities']/coun_wise['cases']) * 100\n",
    "mulr_afghan['death_rate'] = mulr_afghan['death_rate'].fillna('0')\n",
    "mulr_afghan['tempC'] = coun_wise['tempC']\n",
    "mulr_afghan['humidity'] = coun_wise['humidity']\n",
    "y = mulr_afghan['tempC'].astype(float)\n",
    "X = mulr_afghan['death_rate'].astype(float)\n",
    "corr, _ = pearsonr(X, y)\n",
    "corr"
   ]
  },
  {
   "cell_type": "markdown",
   "metadata": {},
   "source": [
    "SPAIN"
   ]
  },
  {
   "cell_type": "code",
   "execution_count": 31,
   "metadata": {},
   "outputs": [
    {
     "data": {
      "text/plain": [
       "0.07157016889693849"
      ]
     },
     "execution_count": 31,
     "metadata": {},
     "output_type": "execute_result"
    }
   ],
   "source": [
    "coun_wise = prov_df_temp[prov_df_temp['country']=='spain']\n",
    "mulr_afghan = pd.DataFrame()\n",
    "mulr_afghan['death_rate'] = (coun_wise['fatalities']/coun_wise['cases']) * 100\n",
    "mulr_afghan['death_rate'] = mulr_afghan['death_rate'].fillna('0')\n",
    "mulr_afghan['tempC'] = coun_wise['tempC']\n",
    "mulr_afghan['humidity'] = coun_wise['humidity']\n",
    "y = mulr_afghan['tempC'].astype(float)\n",
    "X = mulr_afghan['death_rate'].astype(float)\n",
    "corr, _ = pearsonr(X, y)\n",
    "corr"
   ]
  },
  {
   "cell_type": "markdown",
   "metadata": {},
   "source": [
    "UNITED KINGDOM"
   ]
  },
  {
   "cell_type": "code",
   "execution_count": 32,
   "metadata": {},
   "outputs": [
    {
     "data": {
      "text/plain": [
       "0.10713174779854412"
      ]
     },
     "execution_count": 32,
     "metadata": {},
     "output_type": "execute_result"
    }
   ],
   "source": [
    "coun_wise = prov_df_temp[prov_df_temp['country']=='uk']\n",
    "mulr_afghan = pd.DataFrame()\n",
    "mulr_afghan['death_rate'] = (coun_wise['fatalities']/coun_wise['cases']) * 100\n",
    "mulr_afghan['death_rate'] = mulr_afghan['death_rate'].fillna('0')\n",
    "mulr_afghan['tempC'] = coun_wise['tempC']\n",
    "mulr_afghan['humidity'] = coun_wise['humidity']\n",
    "y = mulr_afghan['tempC'].astype(float)\n",
    "X = mulr_afghan['death_rate'].astype(float)\n",
    "corr, _ = pearsonr(X, y)\n",
    "corr"
   ]
  },
  {
   "cell_type": "markdown",
   "metadata": {},
   "source": [
    "SOUTH KOREA"
   ]
  },
  {
   "cell_type": "code",
   "execution_count": 33,
   "metadata": {},
   "outputs": [
    {
     "data": {
      "text/plain": [
       "0.5732754717112007"
      ]
     },
     "execution_count": 33,
     "metadata": {},
     "output_type": "execute_result"
    }
   ],
   "source": [
    "coun_wise = prov_df_temp[prov_df_temp['country']=='korea']\n",
    "mulr_afghan = pd.DataFrame()\n",
    "mulr_afghan['death_rate'] = (coun_wise['fatalities']/coun_wise['cases']) * 100\n",
    "mulr_afghan['death_rate'] = mulr_afghan['death_rate'].fillna('0')\n",
    "mulr_afghan['tempC'] = coun_wise['tempC']\n",
    "mulr_afghan['humidity'] = coun_wise['humidity']\n",
    "y = mulr_afghan['tempC'].astype(float)\n",
    "X = mulr_afghan['death_rate'].astype(float)\n",
    "corr, _ = pearsonr(X, y)\n",
    "corr"
   ]
  },
  {
   "cell_type": "markdown",
   "metadata": {},
   "source": [
    "JAPAN"
   ]
  },
  {
   "cell_type": "code",
   "execution_count": 34,
   "metadata": {},
   "outputs": [
    {
     "data": {
      "text/plain": [
       "0.48585407037930245"
      ]
     },
     "execution_count": 34,
     "metadata": {},
     "output_type": "execute_result"
    }
   ],
   "source": [
    "coun_wise = prov_df_temp[prov_df_temp['country']=='japan']\n",
    "mulr_afghan = pd.DataFrame()\n",
    "mulr_afghan['death_rate'] = (coun_wise['fatalities']/coun_wise['cases']) * 100\n",
    "mulr_afghan['death_rate'] = mulr_afghan['death_rate'].fillna('0')\n",
    "mulr_afghan['tempC'] = coun_wise['tempC']\n",
    "mulr_afghan['humidity'] = coun_wise['humidity']\n",
    "y = mulr_afghan['tempC'].astype(float)\n",
    "X = mulr_afghan['death_rate'].astype(float)\n",
    "corr, _ = pearsonr(X, y)\n",
    "corr"
   ]
  },
  {
   "cell_type": "markdown",
   "metadata": {},
   "source": [
    "IRAQ"
   ]
  },
  {
   "cell_type": "code",
   "execution_count": 35,
   "metadata": {},
   "outputs": [
    {
     "data": {
      "text/plain": [
       "0.6376659581518395"
      ]
     },
     "execution_count": 35,
     "metadata": {},
     "output_type": "execute_result"
    }
   ],
   "source": [
    "coun_wise = prov_df_temp[prov_df_temp['country']=='iraq']\n",
    "mulr_afghan = pd.DataFrame()\n",
    "mulr_afghan['death_rate'] = (coun_wise['fatalities']/coun_wise['cases']) * 100\n",
    "mulr_afghan['death_rate'] = mulr_afghan['death_rate'].fillna('0')\n",
    "mulr_afghan['tempC'] = coun_wise['tempC']\n",
    "mulr_afghan['humidity'] = coun_wise['humidity']\n",
    "y = mulr_afghan['tempC'].astype(float)\n",
    "X = mulr_afghan['death_rate'].astype(float)\n",
    "corr, _ = pearsonr(X, y)\n",
    "corr"
   ]
  },
  {
   "cell_type": "markdown",
   "metadata": {},
   "source": [
    "IRAN"
   ]
  },
  {
   "cell_type": "code",
   "execution_count": 36,
   "metadata": {},
   "outputs": [
    {
     "data": {
      "text/plain": [
       "0.1271696702671895"
      ]
     },
     "execution_count": 36,
     "metadata": {},
     "output_type": "execute_result"
    }
   ],
   "source": [
    "coun_wise = prov_df_temp[prov_df_temp['country']=='iran']\n",
    "mulr_afghan = pd.DataFrame()\n",
    "mulr_afghan['death_rate'] = (coun_wise['fatalities']/coun_wise['cases']) * 100\n",
    "mulr_afghan['death_rate'] = mulr_afghan['death_rate'].fillna('0')\n",
    "mulr_afghan['tempC'] = coun_wise['tempC']\n",
    "mulr_afghan['humidity'] = coun_wise['humidity']\n",
    "y = mulr_afghan['tempC'].astype(float)\n",
    "X = mulr_afghan['death_rate'].astype(float)\n",
    "corr, _ = pearsonr(X, y)\n",
    "corr"
   ]
  }
 ],
 "metadata": {
  "kernelspec": {
   "display_name": "Python 3",
   "language": "python",
   "name": "python3"
  },
  "language_info": {
   "codemirror_mode": {
    "name": "ipython",
    "version": 3
   },
   "file_extension": ".py",
   "mimetype": "text/x-python",
   "name": "python",
   "nbconvert_exporter": "python",
   "pygments_lexer": "ipython3",
   "version": "3.7.4"
  }
 },
 "nbformat": 4,
 "nbformat_minor": 2
}
