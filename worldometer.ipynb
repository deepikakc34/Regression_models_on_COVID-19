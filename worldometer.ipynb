{
 "cells": [
  {
   "cell_type": "code",
   "execution_count": 1,
   "metadata": {},
   "outputs": [],
   "source": [
    "import pandas as pd\n",
    "wrldmtr_df = pd.read_excel('worldometer.xlsx')"
   ]
  },
  {
   "cell_type": "code",
   "execution_count": 2,
   "metadata": {},
   "outputs": [
    {
     "name": "stdout",
     "output_type": "stream",
     "text": [
      "<class 'pandas.core.frame.DataFrame'>\n",
      "RangeIndex: 80 entries, 0 to 79\n",
      "Data columns (total 17 columns):\n",
      "country                      80 non-null object\n",
      "total cases                  80 non-null int64\n",
      "new cases                    79 non-null float64\n",
      "total deaths                 80 non-null int64\n",
      "new deaths                   63 non-null float64\n",
      "total recovered              80 non-null int64\n",
      "active cases                 80 non-null int64\n",
      "serious, critical            71 non-null float64\n",
      "case per pop                 80 non-null int64\n",
      "death per pop                80 non-null float64\n",
      "total tests                  75 non-null float64\n",
      "tests/1M pop                 75 non-null float64\n",
      "population                   80 non-null int64\n",
      "median age                   80 non-null float64\n",
      "crude mortality rate         80 non-null float64\n",
      "population density(km)       80 non-null float64\n",
      "population density(miles)    80 non-null float64\n",
      "dtypes: float64(10), int64(6), object(1)\n",
      "memory usage: 10.8+ KB\n"
     ]
    }
   ],
   "source": [
    "wrldmtr_df.info()"
   ]
  },
  {
   "cell_type": "code",
   "execution_count": 3,
   "metadata": {},
   "outputs": [
    {
     "data": {
      "text/html": [
       "<div>\n",
       "<style scoped>\n",
       "    .dataframe tbody tr th:only-of-type {\n",
       "        vertical-align: middle;\n",
       "    }\n",
       "\n",
       "    .dataframe tbody tr th {\n",
       "        vertical-align: top;\n",
       "    }\n",
       "\n",
       "    .dataframe thead th {\n",
       "        text-align: right;\n",
       "    }\n",
       "</style>\n",
       "<table border=\"1\" class=\"dataframe\">\n",
       "  <thead>\n",
       "    <tr style=\"text-align: right;\">\n",
       "      <th></th>\n",
       "      <th>country</th>\n",
       "      <th>total cases</th>\n",
       "      <th>new cases</th>\n",
       "      <th>total deaths</th>\n",
       "      <th>new deaths</th>\n",
       "      <th>total recovered</th>\n",
       "      <th>active cases</th>\n",
       "      <th>serious, critical</th>\n",
       "      <th>case per pop</th>\n",
       "      <th>death per pop</th>\n",
       "      <th>total tests</th>\n",
       "      <th>tests/1M pop</th>\n",
       "      <th>population</th>\n",
       "      <th>median age</th>\n",
       "      <th>crude mortality rate</th>\n",
       "      <th>population density(km)</th>\n",
       "      <th>population density(miles)</th>\n",
       "    </tr>\n",
       "  </thead>\n",
       "  <tbody>\n",
       "    <tr>\n",
       "      <td>0</td>\n",
       "      <td>Afghanistan</td>\n",
       "      <td>25527</td>\n",
       "      <td>761.0</td>\n",
       "      <td>478</td>\n",
       "      <td>7.0</td>\n",
       "      <td>5164</td>\n",
       "      <td>19885</td>\n",
       "      <td>19.0</td>\n",
       "      <td>656</td>\n",
       "      <td>12.0</td>\n",
       "      <td>57532.0</td>\n",
       "      <td>1480.0</td>\n",
       "      <td>330922877</td>\n",
       "      <td>38.3</td>\n",
       "      <td>8.472173</td>\n",
       "      <td>59.6850</td>\n",
       "      <td>154.5841</td>\n",
       "    </tr>\n",
       "    <tr>\n",
       "      <td>1</td>\n",
       "      <td>Algeria</td>\n",
       "      <td>11031</td>\n",
       "      <td>112.0</td>\n",
       "      <td>777</td>\n",
       "      <td>10.0</td>\n",
       "      <td>7735</td>\n",
       "      <td>2519</td>\n",
       "      <td>39.0</td>\n",
       "      <td>252</td>\n",
       "      <td>18.0</td>\n",
       "      <td>NaN</td>\n",
       "      <td>NaN</td>\n",
       "      <td>212496348</td>\n",
       "      <td>33.5</td>\n",
       "      <td>9.128289</td>\n",
       "      <td>18.4113</td>\n",
       "      <td>47.6854</td>\n",
       "    </tr>\n",
       "    <tr>\n",
       "      <td>2</td>\n",
       "      <td>Argentina</td>\n",
       "      <td>32785</td>\n",
       "      <td>1208.0</td>\n",
       "      <td>854</td>\n",
       "      <td>21.0</td>\n",
       "      <td>9891</td>\n",
       "      <td>22040</td>\n",
       "      <td>274.0</td>\n",
       "      <td>726</td>\n",
       "      <td>19.0</td>\n",
       "      <td>239941.0</td>\n",
       "      <td>5311.0</td>\n",
       "      <td>145932063</td>\n",
       "      <td>39.6</td>\n",
       "      <td>7.947883</td>\n",
       "      <td>16.2551</td>\n",
       "      <td>42.1008</td>\n",
       "    </tr>\n",
       "    <tr>\n",
       "      <td>3</td>\n",
       "      <td>Armenia</td>\n",
       "      <td>17064</td>\n",
       "      <td>397.0</td>\n",
       "      <td>285</td>\n",
       "      <td>16.0</td>\n",
       "      <td>6276</td>\n",
       "      <td>10503</td>\n",
       "      <td>10.0</td>\n",
       "      <td>5759</td>\n",
       "      <td>96.0</td>\n",
       "      <td>83600.0</td>\n",
       "      <td>28214.0</td>\n",
       "      <td>1379418901</td>\n",
       "      <td>28.2</td>\n",
       "      <td>4.343850</td>\n",
       "      <td>99.6282</td>\n",
       "      <td>258.0372</td>\n",
       "    </tr>\n",
       "    <tr>\n",
       "      <td>4</td>\n",
       "      <td>Australia</td>\n",
       "      <td>7335</td>\n",
       "      <td>15.0</td>\n",
       "      <td>102</td>\n",
       "      <td>NaN</td>\n",
       "      <td>6851</td>\n",
       "      <td>382</td>\n",
       "      <td>4.0</td>\n",
       "      <td>288</td>\n",
       "      <td>4.0</td>\n",
       "      <td>1830665.0</td>\n",
       "      <td>71828.0</td>\n",
       "      <td>60465149</td>\n",
       "      <td>47.9</td>\n",
       "      <td>1.466993</td>\n",
       "      <td>3.3151</td>\n",
       "      <td>8.5861</td>\n",
       "    </tr>\n",
       "  </tbody>\n",
       "</table>\n",
       "</div>"
      ],
      "text/plain": [
       "       country  total cases  new cases  total deaths  new deaths  \\\n",
       "0  Afghanistan        25527      761.0           478         7.0   \n",
       "1      Algeria        11031      112.0           777        10.0   \n",
       "2    Argentina        32785     1208.0           854        21.0   \n",
       "3      Armenia        17064      397.0           285        16.0   \n",
       "4    Australia         7335       15.0           102         NaN   \n",
       "\n",
       "   total recovered  active cases  serious, critical  case per pop  \\\n",
       "0             5164         19885               19.0           656   \n",
       "1             7735          2519               39.0           252   \n",
       "2             9891         22040              274.0           726   \n",
       "3             6276         10503               10.0          5759   \n",
       "4             6851           382                4.0           288   \n",
       "\n",
       "   death per pop  total tests  tests/1M pop  population  median age  \\\n",
       "0           12.0      57532.0        1480.0   330922877        38.3   \n",
       "1           18.0          NaN           NaN   212496348        33.5   \n",
       "2           19.0     239941.0        5311.0   145932063        39.6   \n",
       "3           96.0      83600.0       28214.0  1379418901        28.2   \n",
       "4            4.0    1830665.0       71828.0    60465149        47.9   \n",
       "\n",
       "   crude mortality rate  population density(km)  population density(miles)  \n",
       "0              8.472173                 59.6850                   154.5841  \n",
       "1              9.128289                 18.4113                    47.6854  \n",
       "2              7.947883                 16.2551                    42.1008  \n",
       "3              4.343850                 99.6282                   258.0372  \n",
       "4              1.466993                  3.3151                     8.5861  "
      ]
     },
     "execution_count": 3,
     "metadata": {},
     "output_type": "execute_result"
    }
   ],
   "source": [
    "wrldmtr_df.head()"
   ]
  },
  {
   "cell_type": "markdown",
   "metadata": {},
   "source": [
    "data cleaning"
   ]
  },
  {
   "cell_type": "code",
   "execution_count": 4,
   "metadata": {},
   "outputs": [
    {
     "data": {
      "text/html": [
       "<div>\n",
       "<style scoped>\n",
       "    .dataframe tbody tr th:only-of-type {\n",
       "        vertical-align: middle;\n",
       "    }\n",
       "\n",
       "    .dataframe tbody tr th {\n",
       "        vertical-align: top;\n",
       "    }\n",
       "\n",
       "    .dataframe thead th {\n",
       "        text-align: right;\n",
       "    }\n",
       "</style>\n",
       "<table border=\"1\" class=\"dataframe\">\n",
       "  <thead>\n",
       "    <tr style=\"text-align: right;\">\n",
       "      <th></th>\n",
       "      <th>country</th>\n",
       "      <th>total cases</th>\n",
       "      <th>new cases</th>\n",
       "      <th>total deaths</th>\n",
       "      <th>new deaths</th>\n",
       "      <th>total recovered</th>\n",
       "      <th>active cases</th>\n",
       "      <th>serious, critical</th>\n",
       "      <th>case per pop</th>\n",
       "      <th>death per pop</th>\n",
       "      <th>total tests</th>\n",
       "      <th>tests/1M pop</th>\n",
       "      <th>population</th>\n",
       "      <th>median age</th>\n",
       "      <th>crude mortality rate</th>\n",
       "      <th>population density(km)</th>\n",
       "      <th>population density(miles)</th>\n",
       "    </tr>\n",
       "  </thead>\n",
       "  <tbody>\n",
       "    <tr>\n",
       "      <td>0</td>\n",
       "      <td>afghanistan</td>\n",
       "      <td>25527</td>\n",
       "      <td>761.0</td>\n",
       "      <td>478</td>\n",
       "      <td>7.0</td>\n",
       "      <td>5164</td>\n",
       "      <td>19885</td>\n",
       "      <td>19.0</td>\n",
       "      <td>656</td>\n",
       "      <td>12.0</td>\n",
       "      <td>57532.0</td>\n",
       "      <td>1480.0</td>\n",
       "      <td>330922877</td>\n",
       "      <td>38.3</td>\n",
       "      <td>8.472173</td>\n",
       "      <td>59.6850</td>\n",
       "      <td>154.5841</td>\n",
       "    </tr>\n",
       "    <tr>\n",
       "      <td>1</td>\n",
       "      <td>algeria</td>\n",
       "      <td>11031</td>\n",
       "      <td>112.0</td>\n",
       "      <td>777</td>\n",
       "      <td>10.0</td>\n",
       "      <td>7735</td>\n",
       "      <td>2519</td>\n",
       "      <td>39.0</td>\n",
       "      <td>252</td>\n",
       "      <td>18.0</td>\n",
       "      <td>0.0</td>\n",
       "      <td>0.0</td>\n",
       "      <td>212496348</td>\n",
       "      <td>33.5</td>\n",
       "      <td>9.128289</td>\n",
       "      <td>18.4113</td>\n",
       "      <td>47.6854</td>\n",
       "    </tr>\n",
       "    <tr>\n",
       "      <td>2</td>\n",
       "      <td>argentina</td>\n",
       "      <td>32785</td>\n",
       "      <td>1208.0</td>\n",
       "      <td>854</td>\n",
       "      <td>21.0</td>\n",
       "      <td>9891</td>\n",
       "      <td>22040</td>\n",
       "      <td>274.0</td>\n",
       "      <td>726</td>\n",
       "      <td>19.0</td>\n",
       "      <td>239941.0</td>\n",
       "      <td>5311.0</td>\n",
       "      <td>145932063</td>\n",
       "      <td>39.6</td>\n",
       "      <td>7.947883</td>\n",
       "      <td>16.2551</td>\n",
       "      <td>42.1008</td>\n",
       "    </tr>\n",
       "    <tr>\n",
       "      <td>3</td>\n",
       "      <td>armenia</td>\n",
       "      <td>17064</td>\n",
       "      <td>397.0</td>\n",
       "      <td>285</td>\n",
       "      <td>16.0</td>\n",
       "      <td>6276</td>\n",
       "      <td>10503</td>\n",
       "      <td>10.0</td>\n",
       "      <td>5759</td>\n",
       "      <td>96.0</td>\n",
       "      <td>83600.0</td>\n",
       "      <td>28214.0</td>\n",
       "      <td>1379418901</td>\n",
       "      <td>28.2</td>\n",
       "      <td>4.343850</td>\n",
       "      <td>99.6282</td>\n",
       "      <td>258.0372</td>\n",
       "    </tr>\n",
       "    <tr>\n",
       "      <td>4</td>\n",
       "      <td>australia</td>\n",
       "      <td>7335</td>\n",
       "      <td>15.0</td>\n",
       "      <td>102</td>\n",
       "      <td>0.0</td>\n",
       "      <td>6851</td>\n",
       "      <td>382</td>\n",
       "      <td>4.0</td>\n",
       "      <td>288</td>\n",
       "      <td>4.0</td>\n",
       "      <td>1830665.0</td>\n",
       "      <td>71828.0</td>\n",
       "      <td>60465149</td>\n",
       "      <td>47.9</td>\n",
       "      <td>1.466993</td>\n",
       "      <td>3.3151</td>\n",
       "      <td>8.5861</td>\n",
       "    </tr>\n",
       "    <tr>\n",
       "      <td>...</td>\n",
       "      <td>...</td>\n",
       "      <td>...</td>\n",
       "      <td>...</td>\n",
       "      <td>...</td>\n",
       "      <td>...</td>\n",
       "      <td>...</td>\n",
       "      <td>...</td>\n",
       "      <td>...</td>\n",
       "      <td>...</td>\n",
       "      <td>...</td>\n",
       "      <td>...</td>\n",
       "      <td>...</td>\n",
       "      <td>...</td>\n",
       "      <td>...</td>\n",
       "      <td>...</td>\n",
       "      <td>...</td>\n",
       "      <td>...</td>\n",
       "    </tr>\n",
       "    <tr>\n",
       "      <td>75</td>\n",
       "      <td>turkey</td>\n",
       "      <td>179831</td>\n",
       "      <td>1592.0</td>\n",
       "      <td>4825</td>\n",
       "      <td>18.0</td>\n",
       "      <td>152364</td>\n",
       "      <td>22642</td>\n",
       "      <td>722.0</td>\n",
       "      <td>2133</td>\n",
       "      <td>57.0</td>\n",
       "      <td>2674203.0</td>\n",
       "      <td>31723.0</td>\n",
       "      <td>2083377</td>\n",
       "      <td>37.4</td>\n",
       "      <td>3.069553</td>\n",
       "      <td>107.6355</td>\n",
       "      <td>278.7759</td>\n",
       "    </tr>\n",
       "    <tr>\n",
       "      <td>76</td>\n",
       "      <td>uae</td>\n",
       "      <td>42636</td>\n",
       "      <td>342.0</td>\n",
       "      <td>291</td>\n",
       "      <td>2.0</td>\n",
       "      <td>28129</td>\n",
       "      <td>14216</td>\n",
       "      <td>1.0</td>\n",
       "      <td>4313</td>\n",
       "      <td>29.0</td>\n",
       "      <td>2626000.0</td>\n",
       "      <td>265652.0</td>\n",
       "      <td>9661255</td>\n",
       "      <td>41.7</td>\n",
       "      <td>1.023927</td>\n",
       "      <td>118.3062</td>\n",
       "      <td>306.4132</td>\n",
       "    </tr>\n",
       "    <tr>\n",
       "      <td>77</td>\n",
       "      <td>ukraine</td>\n",
       "      <td>31810</td>\n",
       "      <td>656.0</td>\n",
       "      <td>901</td>\n",
       "      <td>12.0</td>\n",
       "      <td>14253</td>\n",
       "      <td>16656</td>\n",
       "      <td>314.0</td>\n",
       "      <td>727</td>\n",
       "      <td>21.0</td>\n",
       "      <td>497284.0</td>\n",
       "      <td>11368.0</td>\n",
       "      <td>625504</td>\n",
       "      <td>39.3</td>\n",
       "      <td>5.945625</td>\n",
       "      <td>72.4669</td>\n",
       "      <td>187.6892</td>\n",
       "    </tr>\n",
       "    <tr>\n",
       "      <td>78</td>\n",
       "      <td>usa</td>\n",
       "      <td>2182911</td>\n",
       "      <td>20683.0</td>\n",
       "      <td>118282</td>\n",
       "      <td>424.0</td>\n",
       "      <td>881120</td>\n",
       "      <td>1183509</td>\n",
       "      <td>16716.0</td>\n",
       "      <td>6596</td>\n",
       "      <td>357.0</td>\n",
       "      <td>25241128.0</td>\n",
       "      <td>76275.0</td>\n",
       "      <td>2223082</td>\n",
       "      <td>20.5</td>\n",
       "      <td>11.835277</td>\n",
       "      <td>35.3160</td>\n",
       "      <td>91.4683</td>\n",
       "    </tr>\n",
       "    <tr>\n",
       "      <td>79</td>\n",
       "      <td>uzbekistan</td>\n",
       "      <td>5263</td>\n",
       "      <td>183.0</td>\n",
       "      <td>19</td>\n",
       "      <td>0.0</td>\n",
       "      <td>4019</td>\n",
       "      <td>1225</td>\n",
       "      <td>17.0</td>\n",
       "      <td>157</td>\n",
       "      <td>0.6</td>\n",
       "      <td>748555.0</td>\n",
       "      <td>22380.0</td>\n",
       "      <td>6484874</td>\n",
       "      <td>27.6</td>\n",
       "      <td>0.470530</td>\n",
       "      <td>74.8082</td>\n",
       "      <td>193.7533</td>\n",
       "    </tr>\n",
       "  </tbody>\n",
       "</table>\n",
       "<p>80 rows × 17 columns</p>\n",
       "</div>"
      ],
      "text/plain": [
       "        country  total cases  new cases  total deaths  new deaths  \\\n",
       "0   afghanistan        25527      761.0           478         7.0   \n",
       "1       algeria        11031      112.0           777        10.0   \n",
       "2     argentina        32785     1208.0           854        21.0   \n",
       "3       armenia        17064      397.0           285        16.0   \n",
       "4     australia         7335       15.0           102         0.0   \n",
       "..          ...          ...        ...           ...         ...   \n",
       "75       turkey       179831     1592.0          4825        18.0   \n",
       "76          uae        42636      342.0           291         2.0   \n",
       "77      ukraine        31810      656.0           901        12.0   \n",
       "78          usa      2182911    20683.0        118282       424.0   \n",
       "79   uzbekistan         5263      183.0            19         0.0   \n",
       "\n",
       "    total recovered  active cases  serious, critical  case per pop  \\\n",
       "0              5164         19885               19.0           656   \n",
       "1              7735          2519               39.0           252   \n",
       "2              9891         22040              274.0           726   \n",
       "3              6276         10503               10.0          5759   \n",
       "4              6851           382                4.0           288   \n",
       "..              ...           ...                ...           ...   \n",
       "75           152364         22642              722.0          2133   \n",
       "76            28129         14216                1.0          4313   \n",
       "77            14253         16656              314.0           727   \n",
       "78           881120       1183509            16716.0          6596   \n",
       "79             4019          1225               17.0           157   \n",
       "\n",
       "    death per pop  total tests  tests/1M pop  population  median age  \\\n",
       "0            12.0      57532.0        1480.0   330922877        38.3   \n",
       "1            18.0          0.0           0.0   212496348        33.5   \n",
       "2            19.0     239941.0        5311.0   145932063        39.6   \n",
       "3            96.0      83600.0       28214.0  1379418901        28.2   \n",
       "4             4.0    1830665.0       71828.0    60465149        47.9   \n",
       "..            ...          ...           ...         ...         ...   \n",
       "75           57.0    2674203.0       31723.0     2083377        37.4   \n",
       "76           29.0    2626000.0      265652.0     9661255        41.7   \n",
       "77           21.0     497284.0       11368.0      625504        39.3   \n",
       "78          357.0   25241128.0       76275.0     2223082        20.5   \n",
       "79            0.6     748555.0       22380.0     6484874        27.6   \n",
       "\n",
       "    crude mortality rate  population density(km)  population density(miles)  \n",
       "0               8.472173                 59.6850                   154.5841  \n",
       "1               9.128289                 18.4113                    47.6854  \n",
       "2               7.947883                 16.2551                    42.1008  \n",
       "3               4.343850                 99.6282                   258.0372  \n",
       "4               1.466993                  3.3151                     8.5861  \n",
       "..                   ...                     ...                        ...  \n",
       "75              3.069553                107.6355                   278.7759  \n",
       "76              1.023927                118.3062                   306.4132  \n",
       "77              5.945625                 72.4669                   187.6892  \n",
       "78             11.835277                 35.3160                    91.4683  \n",
       "79              0.470530                 74.8082                   193.7533  \n",
       "\n",
       "[80 rows x 17 columns]"
      ]
     },
     "execution_count": 4,
     "metadata": {},
     "output_type": "execute_result"
    }
   ],
   "source": [
    "wrldmtr_df['country'] = wrldmtr_df['country'].str.lower()\n",
    "wrldmtr_df = wrldmtr_df.fillna(0)\n",
    "wrldmtr_df"
   ]
  },
  {
   "cell_type": "code",
   "execution_count": 5,
   "metadata": {},
   "outputs": [],
   "source": [
    "import scipy.stats"
   ]
  },
  {
   "cell_type": "markdown",
   "metadata": {},
   "source": [
    "IDENTIFYING DIFFERENT CORRELATION MODELS"
   ]
  },
  {
   "cell_type": "code",
   "execution_count": 6,
   "metadata": {},
   "outputs": [],
   "source": [
    "cases = wrldmtr_df['total cases']\n",
    "no_deaths = wrldmtr_df['total deaths']\n"
   ]
  },
  {
   "cell_type": "markdown",
   "metadata": {},
   "source": [
    "PEARSON"
   ]
  },
  {
   "cell_type": "code",
   "execution_count": 7,
   "metadata": {},
   "outputs": [
    {
     "data": {
      "text/plain": [
       "0.9465165168521094"
      ]
     },
     "execution_count": 7,
     "metadata": {},
     "output_type": "execute_result"
    }
   ],
   "source": [
    "scipy.stats.pearsonr(cases, no_deaths)[0]"
   ]
  },
  {
   "cell_type": "markdown",
   "metadata": {},
   "source": [
    "SPEARMAN"
   ]
  },
  {
   "cell_type": "code",
   "execution_count": 8,
   "metadata": {},
   "outputs": [
    {
     "data": {
      "text/plain": [
       "0.807918610597283"
      ]
     },
     "execution_count": 8,
     "metadata": {},
     "output_type": "execute_result"
    }
   ],
   "source": [
    "scipy.stats.spearmanr(cases, no_deaths)[0]"
   ]
  },
  {
   "cell_type": "markdown",
   "metadata": {},
   "source": [
    "KENDALLS"
   ]
  },
  {
   "cell_type": "code",
   "execution_count": 9,
   "metadata": {},
   "outputs": [
    {
     "data": {
      "text/plain": [
       "0.6415454104808711"
      ]
     },
     "execution_count": 9,
     "metadata": {},
     "output_type": "execute_result"
    }
   ],
   "source": [
    "scipy.stats.kendalltau(cases, no_deaths)[0]"
   ]
  },
  {
   "cell_type": "markdown",
   "metadata": {},
   "source": [
    "OLS LINEAR REGRESSION"
   ]
  },
  {
   "cell_type": "code",
   "execution_count": 10,
   "metadata": {},
   "outputs": [
    {
     "data": {
      "text/plain": [
       "LinregressResult(slope=0.05218844609903868, intercept=-326.3512391615868, rvalue=0.9465165168521092, pvalue=4.5643326337154725e-40, stderr=0.002014363094347323)"
      ]
     },
     "execution_count": 10,
     "metadata": {},
     "output_type": "execute_result"
    }
   ],
   "source": [
    "scipy.stats.linregress(cases, no_deaths)"
   ]
  },
  {
   "cell_type": "code",
   "execution_count": 11,
   "metadata": {},
   "outputs": [
    {
     "data": {
      "text/plain": [
       "0.9465165168521092"
      ]
     },
     "execution_count": 11,
     "metadata": {},
     "output_type": "execute_result"
    }
   ],
   "source": [
    "cases.corr(no_deaths)"
   ]
  },
  {
   "cell_type": "code",
   "execution_count": 28,
   "metadata": {},
   "outputs": [
    {
     "data": {
      "text/plain": [
       "[<matplotlib.lines.Line2D at 0x7ffe1903bc10>]"
      ]
     },
     "execution_count": 28,
     "metadata": {},
     "output_type": "execute_result"
    },
    {
     "data": {
      "image/png": "[encoded data removed]",
      "text/plain": [
       "<Figure size 432x288 with 1 Axes>"
      ]
     },
     "metadata": {
      "needs_background": "light"
     },
     "output_type": "display_data"
    }
   ],
   "source": [
    "import matplotlib.pyplot as plt\n",
    "import numpy as np\n",
    "\n",
    "\n",
    "plt.plot(cases, no_deaths, 'o')\n",
    "\n",
    "m, b = np.polyfit(cases, no_deaths, 1)\n",
    "\n",
    "plt.plot(cases, m*cases + b)"
   ]
  },
  {
   "cell_type": "markdown",
   "metadata": {},
   "source": [
    "DIFF MODELS ON MED AGE WITH CRUDE MORTALITY RATE"
   ]
  },
  {
   "cell_type": "code",
   "execution_count": 13,
   "metadata": {},
   "outputs": [
    {
     "data": {
      "text/plain": [
       "-0.03137747335576445"
      ]
     },
     "execution_count": 13,
     "metadata": {},
     "output_type": "execute_result"
    }
   ],
   "source": [
    "med_age = wrldmtr_df['median age']\n",
    "mort_rate = wrldmtr_df['crude mortality rate']\n",
    "scipy.stats.pearsonr(med_age, mort_rate)[0]"
   ]
  },
  {
   "cell_type": "code",
   "execution_count": 14,
   "metadata": {},
   "outputs": [
    {
     "data": {
      "text/plain": [
       "-0.016270073960096755"
      ]
     },
     "execution_count": 14,
     "metadata": {},
     "output_type": "execute_result"
    }
   ],
   "source": [
    "scipy.stats.spearmanr(med_age, mort_rate)[0]"
   ]
  },
  {
   "cell_type": "code",
   "execution_count": 15,
   "metadata": {},
   "outputs": [
    {
     "data": {
      "text/plain": [
       "-0.0066613987088634165"
      ]
     },
     "execution_count": 15,
     "metadata": {},
     "output_type": "execute_result"
    }
   ],
   "source": [
    "scipy.stats.kendalltau(med_age, mort_rate)[0]"
   ]
  },
  {
   "cell_type": "code",
   "execution_count": 16,
   "metadata": {},
   "outputs": [
    {
     "data": {
      "text/plain": [
       "[<matplotlib.lines.Line2D at 0x7ffe18167a90>]"
      ]
     },
     "execution_count": 16,
     "metadata": {},
     "output_type": "execute_result"
    },
    {
     "data": {
      "image/png": "[encoded data removed]",
      "text/plain": [
       "<Figure size 432x288 with 1 Axes>"
      ]
     },
     "metadata": {
      "needs_background": "light"
     },
     "output_type": "display_data"
    }
   ],
   "source": [
    "import matplotlib.pyplot as plt\n",
    "import numpy as np\n",
    "\n",
    "\n",
    "plt.plot(med_age, mort_rate, 'o')\n",
    "\n",
    "m, b = np.polyfit(med_age, mort_rate, 1)\n",
    "\n",
    "plt.plot(med_age, m*med_age + b)"
   ]
  },
  {
   "cell_type": "markdown",
   "metadata": {},
   "source": [
    "CORRELATION MODELS OF MORTALITY RATE WITH POPULATION DENSITY"
   ]
  },
  {
   "cell_type": "code",
   "execution_count": 17,
   "metadata": {},
   "outputs": [
    {
     "data": {
      "text/plain": [
       "-0.06872055003149705"
      ]
     },
     "execution_count": 17,
     "metadata": {},
     "output_type": "execute_result"
    }
   ],
   "source": [
    "\n",
    "pop_dns = wrldmtr_df['population density(km)']\n",
    "scipy.stats.pearsonr(mort_rate, pop_dns)[0]"
   ]
  },
  {
   "cell_type": "code",
   "execution_count": 18,
   "metadata": {},
   "outputs": [
    {
     "data": {
      "text/plain": [
       "0.014416315049226441"
      ]
     },
     "execution_count": 18,
     "metadata": {},
     "output_type": "execute_result"
    }
   ],
   "source": [
    "scipy.stats.spearmanr(mort_rate, pop_dns)[0]"
   ]
  },
  {
   "cell_type": "code",
   "execution_count": 19,
   "metadata": {},
   "outputs": [
    {
     "data": {
      "text/plain": [
       "0.010126582278481011"
      ]
     },
     "execution_count": 19,
     "metadata": {},
     "output_type": "execute_result"
    }
   ],
   "source": [
    "scipy.stats.kendalltau(mort_rate, pop_dns)[0]"
   ]
  },
  {
   "cell_type": "code",
   "execution_count": 20,
   "metadata": {},
   "outputs": [
    {
     "data": {
      "text/plain": [
       "[<matplotlib.lines.Line2D at 0x7ffe182b8d50>]"
      ]
     },
     "execution_count": 20,
     "metadata": {},
     "output_type": "execute_result"
    },
    {
     "data": {
      "image/png": "[encoded data removed]",
      "text/plain": [
       "<Figure size 432x288 with 1 Axes>"
      ]
     },
     "metadata": {
      "needs_background": "light"
     },
     "output_type": "display_data"
    }
   ],
   "source": [
    "import matplotlib.pyplot as plt\n",
    "import numpy as np\n",
    "\n",
    "\n",
    "plt.plot(mort_rate, pop_dns, 'o')\n",
    "\n",
    "m, b = np.polyfit(mort_rate, pop_dns, 1)\n",
    "\n",
    "plt.plot(mort_rate, m*mort_rate + b)"
   ]
  },
  {
   "cell_type": "markdown",
   "metadata": {},
   "source": [
    "CORRELATION OF POPULATION DENSITY USING CASES PER 1MILLION POPULATION AND DEATH PER 1M POPULATION"
   ]
  },
  {
   "cell_type": "code",
   "execution_count": 21,
   "metadata": {},
   "outputs": [],
   "source": [
    "cas_pop = wrldmtr_df['case per pop']\n",
    "mort_pop = wrldmtr_df['death per pop']"
   ]
  },
  {
   "cell_type": "code",
   "execution_count": 22,
   "metadata": {},
   "outputs": [
    {
     "data": {
      "text/plain": [
       "0.23343747744837118"
      ]
     },
     "execution_count": 22,
     "metadata": {},
     "output_type": "execute_result"
    }
   ],
   "source": [
    "scipy.stats.pearsonr(cas_pop, mort_pop)[0]"
   ]
  },
  {
   "cell_type": "code",
   "execution_count": 23,
   "metadata": {},
   "outputs": [
    {
     "data": {
      "text/plain": [
       "[<matplotlib.lines.Line2D at 0x7ffe18363b10>]"
      ]
     },
     "execution_count": 23,
     "metadata": {},
     "output_type": "execute_result"
    },
    {
     "data": {
      "image/png": "[encoded data removed]",
      "text/plain": [
       "<Figure size 432x288 with 1 Axes>"
      ]
     },
     "metadata": {
      "needs_background": "light"
     },
     "output_type": "display_data"
    }
   ],
   "source": [
    "import matplotlib.pyplot as plt\n",
    "import numpy as np\n",
    "\n",
    "\n",
    "plt.plot(cas_pop, mort_pop, 'o')\n",
    "\n",
    "m, b = np.polyfit(cas_pop, mort_pop, 1)\n",
    "\n",
    "plt.plot(cas_pop, m*cas_pop + b)"
   ]
  },
  {
   "cell_type": "code",
   "execution_count": 24,
   "metadata": {},
   "outputs": [
    {
     "data": {
      "text/plain": [
       "-0.040645281653849855"
      ]
     },
     "execution_count": 24,
     "metadata": {},
     "output_type": "execute_result"
    }
   ],
   "source": [
    "tot_cas = wrldmtr_df['total cases']\n",
    "scipy.stats.pearsonr(pop_dns, tot_cas)[0]"
   ]
  },
  {
   "cell_type": "code",
   "execution_count": 25,
   "metadata": {},
   "outputs": [
    {
     "data": {
      "text/html": [
       "<div>\n",
       "<style scoped>\n",
       "    .dataframe tbody tr th:only-of-type {\n",
       "        vertical-align: middle;\n",
       "    }\n",
       "\n",
       "    .dataframe tbody tr th {\n",
       "        vertical-align: top;\n",
       "    }\n",
       "\n",
       "    .dataframe thead th {\n",
       "        text-align: right;\n",
       "    }\n",
       "</style>\n",
       "<table border=\"1\" class=\"dataframe\">\n",
       "  <thead>\n",
       "    <tr style=\"text-align: right;\">\n",
       "      <th></th>\n",
       "      <th>pop_dns</th>\n",
       "      <th>med_age</th>\n",
       "    </tr>\n",
       "  </thead>\n",
       "  <tbody>\n",
       "    <tr>\n",
       "      <td>0</td>\n",
       "      <td>59.6850</td>\n",
       "      <td>38.3</td>\n",
       "    </tr>\n",
       "    <tr>\n",
       "      <td>1</td>\n",
       "      <td>18.4113</td>\n",
       "      <td>33.5</td>\n",
       "    </tr>\n",
       "    <tr>\n",
       "      <td>2</td>\n",
       "      <td>16.2551</td>\n",
       "      <td>39.6</td>\n",
       "    </tr>\n",
       "    <tr>\n",
       "      <td>3</td>\n",
       "      <td>99.6282</td>\n",
       "      <td>28.2</td>\n",
       "    </tr>\n",
       "    <tr>\n",
       "      <td>4</td>\n",
       "      <td>3.3151</td>\n",
       "      <td>47.9</td>\n",
       "    </tr>\n",
       "    <tr>\n",
       "      <td>...</td>\n",
       "      <td>...</td>\n",
       "      <td>...</td>\n",
       "    </tr>\n",
       "    <tr>\n",
       "      <td>75</td>\n",
       "      <td>107.6355</td>\n",
       "      <td>37.4</td>\n",
       "    </tr>\n",
       "    <tr>\n",
       "      <td>76</td>\n",
       "      <td>118.3062</td>\n",
       "      <td>41.7</td>\n",
       "    </tr>\n",
       "    <tr>\n",
       "      <td>77</td>\n",
       "      <td>72.4669</td>\n",
       "      <td>39.3</td>\n",
       "    </tr>\n",
       "    <tr>\n",
       "      <td>78</td>\n",
       "      <td>35.3160</td>\n",
       "      <td>20.5</td>\n",
       "    </tr>\n",
       "    <tr>\n",
       "      <td>79</td>\n",
       "      <td>74.8082</td>\n",
       "      <td>27.6</td>\n",
       "    </tr>\n",
       "  </tbody>\n",
       "</table>\n",
       "<p>80 rows × 2 columns</p>\n",
       "</div>"
      ],
      "text/plain": [
       "     pop_dns  med_age\n",
       "0    59.6850     38.3\n",
       "1    18.4113     33.5\n",
       "2    16.2551     39.6\n",
       "3    99.6282     28.2\n",
       "4     3.3151     47.9\n",
       "..       ...      ...\n",
       "75  107.6355     37.4\n",
       "76  118.3062     41.7\n",
       "77   72.4669     39.3\n",
       "78   35.3160     20.5\n",
       "79   74.8082     27.6\n",
       "\n",
       "[80 rows x 2 columns]"
      ]
     },
     "execution_count": 25,
     "metadata": {},
     "output_type": "execute_result"
    }
   ],
   "source": [
    "mul_r = pd.DataFrame()\n",
    "mul_r['pop_dns'] = wrldmtr_df['population density(km)']\n",
    "mul_r['med_age'] = wrldmtr_df['median age']\n",
    "mul_r"
   ]
  },
  {
   "cell_type": "markdown",
   "metadata": {},
   "source": [
    "# MULTI CORRELATION MODEL"
   ]
  },
  {
   "cell_type": "markdown",
   "metadata": {},
   "source": [
    "WORLDOMETER DATA - CORRELATION OF MORTALITY RATE WITH MEDIAN AGE AND POPULATION DENSITY"
   ]
  },
  {
   "cell_type": "code",
   "execution_count": 26,
   "metadata": {},
   "outputs": [
    {
     "data": {
      "text/html": [
       "<table class=\"simpletable\">\n",
       "<caption>OLS Regression Results</caption>\n",
       "<tr>\n",
       "  <th>Dep. Variable:</th>    <td>crude mortality rate</td> <th>  R-squared (uncentered):</th>      <td>   0.328</td>\n",
       "</tr>\n",
       "<tr>\n",
       "  <th>Model:</th>                     <td>OLS</td>         <th>  Adj. R-squared (uncentered):</th> <td>   0.311</td>\n",
       "</tr>\n",
       "<tr>\n",
       "  <th>Method:</th>               <td>Least Squares</td>    <th>  F-statistic:       </th>          <td>   19.03</td>\n",
       "</tr>\n",
       "<tr>\n",
       "  <th>Date:</th>               <td>Tue, 23 Jun 2020</td>   <th>  Prob (F-statistic):</th>          <td>1.85e-07</td>\n",
       "</tr>\n",
       "<tr>\n",
       "  <th>Time:</th>                   <td>11:12:03</td>       <th>  Log-Likelihood:    </th>          <td> -300.15</td>\n",
       "</tr>\n",
       "<tr>\n",
       "  <th>No. Observations:</th>        <td>    80</td>        <th>  AIC:               </th>          <td>   604.3</td>\n",
       "</tr>\n",
       "<tr>\n",
       "  <th>Df Residuals:</th>            <td>    78</td>        <th>  BIC:               </th>          <td>   609.1</td>\n",
       "</tr>\n",
       "<tr>\n",
       "  <th>Df Model:</th>                <td>     2</td>        <th>                     </th>              <td> </td>   \n",
       "</tr>\n",
       "<tr>\n",
       "  <th>Covariance Type:</th>        <td>nonrobust</td>      <th>                     </th>              <td> </td>   \n",
       "</tr>\n",
       "</table>\n",
       "<table class=\"simpletable\">\n",
       "<tr>\n",
       "     <td></td>        <th>coef</th>     <th>std err</th>      <th>t</th>      <th>P>|t|</th>  <th>[0.025</th>    <th>0.975]</th>  \n",
       "</tr>\n",
       "<tr>\n",
       "  <th>pop_dns</th> <td>   -0.0004</td> <td>    0.001</td> <td>   -0.325</td> <td> 0.746</td> <td>   -0.003</td> <td>    0.002</td>\n",
       "</tr>\n",
       "<tr>\n",
       "  <th>med_age</th> <td>    0.2197</td> <td>    0.036</td> <td>    6.060</td> <td> 0.000</td> <td>    0.148</td> <td>    0.292</td>\n",
       "</tr>\n",
       "</table>\n",
       "<table class=\"simpletable\">\n",
       "<tr>\n",
       "  <th>Omnibus:</th>       <td>105.589</td> <th>  Durbin-Watson:     </th> <td>   1.698</td>\n",
       "</tr>\n",
       "<tr>\n",
       "  <th>Prob(Omnibus):</th> <td> 0.000</td>  <th>  Jarque-Bera (JB):  </th> <td>2115.288</td>\n",
       "</tr>\n",
       "<tr>\n",
       "  <th>Skew:</th>          <td> 4.173</td>  <th>  Prob(JB):          </th> <td>    0.00</td>\n",
       "</tr>\n",
       "<tr>\n",
       "  <th>Kurtosis:</th>      <td>26.769</td>  <th>  Cond. No.          </th> <td>    30.3</td>\n",
       "</tr>\n",
       "</table><br/><br/>Warnings:<br/>[1] Standard Errors assume that the covariance matrix of the errors is correctly specified."
      ],
      "text/plain": [
       "<class 'statsmodels.iolib.summary.Summary'>\n",
       "\"\"\"\n",
       "                                  OLS Regression Results                                 \n",
       "=========================================================================================\n",
       "Dep. Variable:     crude mortality rate   R-squared (uncentered):                   0.328\n",
       "Model:                              OLS   Adj. R-squared (uncentered):              0.311\n",
       "Method:                   Least Squares   F-statistic:                              19.03\n",
       "Date:                  Tue, 23 Jun 2020   Prob (F-statistic):                    1.85e-07\n",
       "Time:                          11:12:03   Log-Likelihood:                         -300.15\n",
       "No. Observations:                    80   AIC:                                      604.3\n",
       "Df Residuals:                        78   BIC:                                      609.1\n",
       "Df Model:                             2                                                  \n",
       "Covariance Type:              nonrobust                                                  \n",
       "==============================================================================\n",
       "                 coef    std err          t      P>|t|      [0.025      0.975]\n",
       "------------------------------------------------------------------------------\n",
       "pop_dns       -0.0004      0.001     -0.325      0.746      -0.003       0.002\n",
       "med_age        0.2197      0.036      6.060      0.000       0.148       0.292\n",
       "==============================================================================\n",
       "Omnibus:                      105.589   Durbin-Watson:                   1.698\n",
       "Prob(Omnibus):                  0.000   Jarque-Bera (JB):             2115.288\n",
       "Skew:                           4.173   Prob(JB):                         0.00\n",
       "Kurtosis:                      26.769   Cond. No.                         30.3\n",
       "==============================================================================\n",
       "\n",
       "Warnings:\n",
       "[1] Standard Errors assume that the covariance matrix of the errors is correctly specified.\n",
       "\"\"\""
      ]
     },
     "execution_count": 26,
     "metadata": {},
     "output_type": "execute_result"
    }
   ],
   "source": [
    "from statsmodels.api import OLS\n",
    "model = OLS(mort_rate, mul_r)\n",
    "result = model.fit()\n",
    "result.summary()"
   ]
  },
  {
   "cell_type": "code",
   "execution_count": 27,
   "metadata": {},
   "outputs": [
    {
     "data": {
      "image/png": "[encoded data removed]",
      "text/plain": [
       "<Figure size 432x288 with 1 Axes>"
      ]
     },
     "metadata": {
      "needs_background": "light"
     },
     "output_type": "display_data"
    }
   ],
   "source": [
    "fig = plt.figure()\n",
    "ax = fig.add_subplot(111)\n",
    "ax.scatter(mort_rate,mul_r['med_age'],mul_r['pop_dns'],c='red', marker='o', alpha=0.5)\n",
    "plt.show()"
   ]
  },
  {
   "cell_type": "code",
   "execution_count": null,
   "metadata": {},
   "outputs": [],
   "source": []
  }
 ],
 "metadata": {
  "kernelspec": {
   "display_name": "Python 3",
   "language": "python",
   "name": "python3"
  },
  "language_info": {
   "codemirror_mode": {
    "name": "ipython",
    "version": 3
   },
   "file_extension": ".py",
   "mimetype": "text/x-python",
   "name": "python",
   "nbconvert_exporter": "python",
   "pygments_lexer": "ipython3",
   "version": "3.7.4"
  }
 },
 "nbformat": 4,
 "nbformat_minor": 2
}
